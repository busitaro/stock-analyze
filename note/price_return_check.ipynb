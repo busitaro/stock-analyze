{
 "cells": [
  {
   "cell_type": "markdown",
   "id": "arranged-debate",
   "metadata": {},
   "source": [
    "# 目的\n",
    "過去1年の平均と現在の価格の差と、  \n",
    "その後の価格の変化を調査する。    \n",
    "価格は平均に戻ろうとするのではないかと予想する"
   ]
  },
  {
   "cell_type": "markdown",
   "id": "friendly-chosen",
   "metadata": {},
   "source": [
    "# 方法\n",
    "2013年から2020年まで、1ケ月毎にランダムに日付を抽出(日付の偏りを避けるため)  \n",
    "その日をベースに過去1年の終値の平均を算出、終値が標準偏差いくつ分下げているかで銘柄をカテゴライズ\n",
    "\n",
    "カテゴリー毎にその後半年での値動きを確認\n",
    "  \n",
    "※ 値動きは、30日間の移動平均を日ごとにプロットし、  \n",
    "その近似直線の傾きにて、値上がり・値下がりを判断する"
   ]
  },
  {
   "cell_type": "code",
   "execution_count": 1,
   "id": "animated-extra",
   "metadata": {},
   "outputs": [],
   "source": [
    "%matplotlib inline \n",
    "\n",
    "import pandas as pd\n",
    "import numpy as np\n",
    "from datetime import datetime, timedelta\n",
    "from dateutil.relativedelta import relativedelta"
   ]
  },
  {
   "cell_type": "code",
   "execution_count": 2,
   "id": "electrical-france",
   "metadata": {},
   "outputs": [],
   "source": [
    "import sys\n",
    "sys.path.append('../src')"
   ]
  },
  {
   "cell_type": "markdown",
   "id": "continuous-incident",
   "metadata": {},
   "source": [
    "### データの読込"
   ]
  },
  {
   "cell_type": "code",
   "execution_count": 3,
   "id": "vocational-split",
   "metadata": {},
   "outputs": [],
   "source": [
    "from data_control import data as dt\n",
    "from analyze import graph as gh\n",
    "from database.models import DailyChart"
   ]
  },
  {
   "cell_type": "code",
   "execution_count": 4,
   "id": "average-sound",
   "metadata": {},
   "outputs": [],
   "source": [
    "bgn_datetime = datetime(2012, 7, 1)\n",
    "end_datetime = datetime(2021, 6, 30)"
   ]
  },
  {
   "cell_type": "code",
   "execution_count": 5,
   "id": "passing-serial",
   "metadata": {},
   "outputs": [
    {
     "name": "stdout",
     "output_type": "stream",
     "text": [
      "2021-11-12 03:29:06,658 INFO sqlalchemy.engine.Engine SHOW VARIABLES LIKE 'sql_mode'\n",
      "2021-11-12 03:29:06,659 INFO sqlalchemy.engine.Engine [raw sql] {}\n",
      "2021-11-12 03:29:06,665 INFO sqlalchemy.engine.Engine SHOW VARIABLES LIKE 'lower_case_table_names'\n",
      "2021-11-12 03:29:06,666 INFO sqlalchemy.engine.Engine [generated in 0.00114s] {}\n",
      "2021-11-12 03:29:06,670 INFO sqlalchemy.engine.Engine SELECT DATABASE()\n",
      "2021-11-12 03:29:06,670 INFO sqlalchemy.engine.Engine [raw sql] {}\n",
      "2021-11-12 03:29:06,673 INFO sqlalchemy.engine.Engine BEGIN (implicit)\n",
      "2021-11-12 03:29:06,681 INFO sqlalchemy.engine.Engine SELECT daily_chart.chart_date AS daily_chart_chart_date, daily_chart.description_code AS daily_chart_description_code, daily_chart.open AS daily_chart_open, daily_chart.high AS daily_chart_high, daily_chart.low AS daily_chart_low, daily_chart.close AS daily_chart_close, daily_chart.turnover AS daily_chart_turnover, daily_chart.vwap AS daily_chart_vwap, daily_chart.execution_count AS daily_chart_execution_count \n",
      "FROM daily_chart \n",
      "WHERE daily_chart.chart_date BETWEEN %(chart_date_1)s AND %(chart_date_2)s\n",
      "2021-11-12 03:29:06,682 INFO sqlalchemy.engine.Engine [generated in 0.00095s] {'chart_date_1': datetime.datetime(2012, 5, 1, 0, 0), 'chart_date_2': datetime.datetime(2021, 6, 30, 0, 0)}\n"
     ]
    }
   ],
   "source": [
    "all_data = DailyChart.date_between(bgn_datetime - relativedelta(months=2), end_datetime)"
   ]
  },
  {
   "cell_type": "code",
   "execution_count": 6,
   "id": "verified-carpet",
   "metadata": {},
   "outputs": [],
   "source": [
    "data = dt.separate_by_code(all_data)"
   ]
  },
  {
   "cell_type": "code",
   "execution_count": 7,
   "id": "federal-nylon",
   "metadata": {},
   "outputs": [],
   "source": [
    "data = dt.calc_moving_average(data, days=30, column='close')"
   ]
  },
  {
   "cell_type": "code",
   "execution_count": 8,
   "id": "periodic-nightlife",
   "metadata": {},
   "outputs": [
    {
     "data": {
      "text/plain": [
       "4116"
      ]
     },
     "execution_count": 8,
     "metadata": {},
     "output_type": "execute_result"
    }
   ],
   "source": [
    "# 銘柄数\n",
    "len(data.keys())"
   ]
  },
  {
   "cell_type": "markdown",
   "id": "existing-midnight",
   "metadata": {},
   "source": [
    "### 調査に必要な関数を定義"
   ]
  },
  {
   "cell_type": "code",
   "execution_count": 9,
   "id": "violent-integrity",
   "metadata": {},
   "outputs": [],
   "source": [
    "def get_one_year_ago(date: datetime) -> datetime:\n",
    "    \"\"\"\n",
    "    半年前の日付を取得する\n",
    "\n",
    "    Params\n",
    "    -------\n",
    "    date: datetime\n",
    "        基準日\n",
    "\n",
    "    Returns\n",
    "    -------\n",
    "    0: datetime\n",
    "        半年前の日付\n",
    "    \"\"\"\n",
    "    delta = relativedelta(years=1)\n",
    "    a_day = relativedelta(days=1)\n",
    "    return date - delta + a_day"
   ]
  },
  {
   "cell_type": "code",
   "execution_count": 10,
   "id": "blank-drunk",
   "metadata": {},
   "outputs": [],
   "source": [
    "def get_half_year_after(date: datetime) -> datetime:\n",
    "    \"\"\"\n",
    "    半年後の日付を取得する\n",
    "\n",
    "    Params\n",
    "    -------\n",
    "    date: datetime\n",
    "        基準日\n",
    "\n",
    "    Returns\n",
    "    -------\n",
    "    0: datetime\n",
    "        半年後の日付\n",
    "    \"\"\"\n",
    "    delta = relativedelta(months=6)\n",
    "    return date + delta"
   ]
  },
  {
   "cell_type": "code",
   "execution_count": 11,
   "id": "august-terror",
   "metadata": {},
   "outputs": [],
   "source": [
    "def calc_mean_and_gap(date: datetime, data: dict) -> dict:\n",
    "    \"\"\"\n",
    "    与えられた基準日をベースに、\n",
    "    過去半年間の終値の平均、標準偏差と\n",
    "    その平均と基準日の終値との差を標準偏差で除した値を算出する\n",
    "\n",
    "    Params\n",
    "    -------\n",
    "    date: datetime\n",
    "        基準日\n",
    "    data: dict\n",
    "        銘柄コードをkeyにした価格データ\n",
    "\n",
    "    Returns\n",
    "    --------\n",
    "    0: dict\n",
    "        算出した値を列として保持したデータ\n",
    "        (mean, std, code, now, gap, gap_rate)\n",
    "    \"\"\"\n",
    "    df = pd.DataFrame()\n",
    "    half_year_ago = get_one_year_ago(date)\n",
    "    for code, d in data.items():\n",
    "        d = d[(d['chart_date'] >= half_year_ago) & (d['chart_date'] <= date)]\n",
    "        if len(d) > 0:\n",
    "            describe = pd.DataFrame([d['close'].describe()[['mean', 'std']]])\n",
    "            describe['code'] = code\n",
    "            describe['now'] = float(d.sort_values('chart_date').tail(1)['close'])\n",
    "            df = pd.concat([df, describe])\n",
    "    df = df.reset_index().drop('index', axis=1)\n",
    "    df['gap'] = df['now'] - df['mean']\n",
    "    df['gap_rate'] = df['gap'] / df['std']\n",
    "\n",
    "    return df"
   ]
  },
  {
   "cell_type": "code",
   "execution_count": 12,
   "id": "marine-macro",
   "metadata": {},
   "outputs": [],
   "source": [
    "def get_random_date(from_dt: datetime, end_dt: datetime) -> datetime:\n",
    "    \"\"\"\n",
    "    与えられた日付間でランダムに1件日付を抽出する\n",
    "\n",
    "    Params\n",
    "    -------\n",
    "    from_dt: datetime\n",
    "        抽出開始日\n",
    "    end_dt: datetime\n",
    "        抽出終了日\n",
    "    Returns\n",
    "    -------\n",
    "    0: 抽出した日付\n",
    "        \n",
    "    \"\"\"\n",
    "    days = (end_dt - from_dt).days + 1\n",
    "    delta = timedelta(days=np.random.randint(0, days))\n",
    "    return from_dt + delta"
   ]
  },
  {
   "cell_type": "code",
   "execution_count": 13,
   "id": "thirty-sector",
   "metadata": {},
   "outputs": [],
   "source": [
    "def check(code_list: list, date: datetime, show_graph=False) -> pd.DataFrame:\n",
    "    \"\"\"\n",
    "    基準日から先の日付で値上がり、値下がりする銘柄を調べる\n",
    "\n",
    "    Params\n",
    "    -------\n",
    "    code_list: list\n",
    "        対象とする銘柄コード\n",
    "    date: datetime\n",
    "        基準日\n",
    "    show_graph: bool \n",
    "        価格変動のグラフを出力するかの真偽値\n",
    "    Returns\n",
    "    -------\n",
    "    0: 調査結果のDataFrame(\n",
    "        grad: 価格近似直線の傾き\n",
    "        max_profit: 最高益\n",
    "        max_days: 最高益地点までの日数\n",
    "        min_profit: 最高損\n",
    "        min_days: 最高損までの日数\n",
    "        )\n",
    "    \n",
    "    \"\"\"\n",
    "    grad_list = list()\n",
    "    max_list = list()\n",
    "    max_days_list = list()\n",
    "    min_list = list()\n",
    "    min_days_list = list()\n",
    "\n",
    "    for code in code_list:\n",
    "        # データの絞り込み\n",
    "        d = data[code]\n",
    "        d = d[(date < d['chart_date']) & (d['chart_date'] <= get_half_year_after(date))]\n",
    "        d = d.reset_index()\n",
    "        d = d.dropna()\n",
    "        if len(d) == 0:\n",
    "            continue\n",
    "        # 回帰直線の追加\n",
    "        x = np.linspace(1, len(d), len(d))\n",
    "        a, b = np.polyfit(x, d['m_avg_30_close'], 1)\n",
    "        regression_line = a * x + b\n",
    "        d = d.assign(regression=regression_line)\n",
    "        # 損益の取得\n",
    "        buy = float(d.head(1)['close'])\n",
    "        std = float(d.head(1)['m_std_30_close'])\n",
    "        if std == 0:\n",
    "            std = 0.0001\n",
    "        d['profit_or_loss'] = d['m_avg_30_close'] - buy\n",
    "        max_idx = d['profit_or_loss'].idxmax()\n",
    "        min_idx = d['profit_or_loss'].idxmin()\n",
    "        max_by_std = float(d[d.index==max_idx]['profit_or_loss']) / std\n",
    "        min_by_std = float(d[d.index==min_idx]['profit_or_loss']) / std\n",
    "        # 集計\n",
    "        grad_list.append(a)\n",
    "        max_list.append(max_by_std)\n",
    "        max_days_list.append(max_idx)\n",
    "        min_list.append(min_by_std)\n",
    "        min_days_list.append(min_idx)\n",
    "        # グラフの描画\n",
    "        if show_graph:\n",
    "            print(code)\n",
    "            gh.show_graph_together(d, ['m_avg_30_close', 'regression'], ['b', 'r'])\n",
    "    \n",
    "    check_df = pd.DataFrame()\n",
    "    check_df = check_df.assign(grad=grad_list)\n",
    "    check_df = check_df.assign(max_profit=max_list)\n",
    "    check_df = check_df.assign(max_days=max_days_list)\n",
    "    check_df = check_df.assign(min_profit=min_list)\n",
    "    check_df = check_df.assign(min_days=min_days_list)\n",
    "    return check_df"
   ]
  },
  {
   "cell_type": "markdown",
   "id": "quarterly-rogers",
   "metadata": {},
   "source": [
    "### 調査の実行"
   ]
  },
  {
   "cell_type": "code",
   "execution_count": 14,
   "id": "incredible-mistress",
   "metadata": {},
   "outputs": [],
   "source": [
    "# 1か月ごとに日付を取得\n",
    "term = relativedelta(days=30)\n",
    "a_day = relativedelta(days=1)\n",
    "base_datetime = bgn_datetime\n",
    "check_datetime_list = []\n",
    "while base_datetime <= end_datetime:\n",
    "    to_datetime = min(base_datetime + term, end_datetime)\n",
    "    check_datetime_list.append(get_random_date(base_datetime, to_datetime))\n",
    "    base_datetime = base_datetime + term"
   ]
  },
  {
   "cell_type": "code",
   "execution_count": 15,
   "id": "jewish-result",
   "metadata": {},
   "outputs": [
    {
     "name": "stderr",
     "output_type": "stream",
     "text": [
      "<ipython-input-15-f02c003211c5>:6: RankWarning: Polyfit may be poorly conditioned\n",
      "  check_df = check(code_list, check_datetime)\n",
      "<ipython-input-15-f02c003211c5>:6: RankWarning: Polyfit may be poorly conditioned\n",
      "  check_df = check(code_list, check_datetime)\n"
     ]
    },
    {
     "name": "stdout",
     "output_type": "stream",
     "text": [
      "2012-07-19 00:00:00, (-99.0, 99.0): plus => 0.5818965517241379, minus => 0.41810344827586204\n",
      "2012-07-19 00:00:00, (-99.0, -2.0): plus => 0.41379310344827586, minus => 0.5862068965517241\n",
      "2012-07-19 00:00:00, (-2.0, -1.5): plus => 0.5, minus => 0.5\n",
      "2012-07-19 00:00:00, (-1.5, -1.0): plus => 0.5328185328185329, minus => 0.4671814671814672\n",
      "2012-07-19 00:00:00, (-1.0, -0.5): plus => 0.552863436123348, minus => 0.44713656387665196\n",
      "2012-07-19 00:00:00, (-0.5, 0): plus => 0.5544354838709677, minus => 0.44556451612903225\n"
     ]
    },
    {
     "name": "stderr",
     "output_type": "stream",
     "text": [
      "<ipython-input-15-f02c003211c5>:6: RankWarning: Polyfit may be poorly conditioned\n",
      "  check_df = check(code_list, check_datetime)\n"
     ]
    },
    {
     "name": "stdout",
     "output_type": "stream",
     "text": [
      "2012-07-19 00:00:00, (0, 0.5): plus => 0.5726141078838174, minus => 0.42738589211618255\n",
      "2012-07-19 00:00:00, (0.5, 1.0): plus => 0.625560538116592, minus => 0.3744394618834081\n",
      "2012-07-19 00:00:00, (1.0, 1.5): plus => 0.6386138613861386, minus => 0.3613861386138614\n"
     ]
    },
    {
     "name": "stderr",
     "output_type": "stream",
     "text": [
      "<ipython-input-15-f02c003211c5>:6: RankWarning: Polyfit may be poorly conditioned\n",
      "  check_df = check(code_list, check_datetime)\n"
     ]
    },
    {
     "name": "stdout",
     "output_type": "stream",
     "text": [
      "2012-07-19 00:00:00, (1.5, 2.0): plus => 0.6485148514851485, minus => 0.35148514851485146\n",
      "2012-07-19 00:00:00, (2.0, 99.0): plus => 0.6666666666666666, minus => 0.3333333333333333\n"
     ]
    },
    {
     "name": "stderr",
     "output_type": "stream",
     "text": [
      "<ipython-input-15-f02c003211c5>:6: RankWarning: Polyfit may be poorly conditioned\n",
      "  check_df = check(code_list, check_datetime)\n"
     ]
    },
    {
     "name": "stdout",
     "output_type": "stream",
     "text": [
      "2012-07-31 00:00:00, (-99.0, 99.0): plus => 0.6962570387545545, minus => 0.30374296124544553\n",
      "2012-07-31 00:00:00, (-99.0, -2.0): plus => 0.5151515151515151, minus => 0.48484848484848486\n",
      "2012-07-31 00:00:00, (-2.0, -1.5): plus => 0.6783216783216783, minus => 0.32167832167832167\n",
      "2012-07-31 00:00:00, (-1.5, -1.0): plus => 0.713091922005571, minus => 0.28690807799442897\n",
      "2012-07-31 00:00:00, (-1.0, -0.5): plus => 0.6891891891891891, minus => 0.3108108108108108\n",
      "2012-07-31 00:00:00, (-0.5, 0): plus => 0.6737044145873321, minus => 0.32629558541266795\n",
      "2012-07-31 00:00:00, (0, 0.5): plus => 0.7176470588235294, minus => 0.2823529411764706\n",
      "2012-07-31 00:00:00, (0.5, 1.0): plus => 0.6919191919191919, minus => 0.30808080808080807\n",
      "2012-07-31 00:00:00, (1.0, 1.5): plus => 0.7272727272727273, minus => 0.2727272727272727\n"
     ]
    },
    {
     "name": "stderr",
     "output_type": "stream",
     "text": [
      "<ipython-input-15-f02c003211c5>:6: RankWarning: Polyfit may be poorly conditioned\n",
      "  check_df = check(code_list, check_datetime)\n"
     ]
    },
    {
     "name": "stdout",
     "output_type": "stream",
     "text": [
      "2012-07-31 00:00:00, (1.5, 2.0): plus => 0.7364864864864865, minus => 0.2635135135135135\n",
      "2012-07-31 00:00:00, (2.0, 99.0): plus => 0.7213114754098361, minus => 0.2786885245901639\n"
     ]
    },
    {
     "name": "stderr",
     "output_type": "stream",
     "text": [
      "<ipython-input-15-f02c003211c5>:6: RankWarning: Polyfit may be poorly conditioned\n",
      "  check_df = check(code_list, check_datetime)\n"
     ]
    },
    {
     "name": "stdout",
     "output_type": "stream",
     "text": [
      "2012-09-05 00:00:00, (-99.0, 99.0): plus => 0.8924909030764142, minus => 0.10750909692358585\n",
      "2012-09-05 00:00:00, (-99.0, -2.0): plus => 0.9066666666666666, minus => 0.09333333333333334\n"
     ]
    },
    {
     "name": "stderr",
     "output_type": "stream",
     "text": [
      "<ipython-input-15-f02c003211c5>:6: RankWarning: Polyfit may be poorly conditioned\n",
      "  check_df = check(code_list, check_datetime)\n"
     ]
    },
    {
     "name": "stdout",
     "output_type": "stream",
     "text": [
      "2012-09-05 00:00:00, (-2.0, -1.5): plus => 0.9263456090651558, minus => 0.07365439093484419\n",
      "2012-09-05 00:00:00, (-1.5, -1.0): plus => 0.9032258064516129, minus => 0.0967741935483871\n",
      "2012-09-05 00:00:00, (-1.0, -0.5): plus => 0.916030534351145, minus => 0.08396946564885496\n",
      "2012-09-05 00:00:00, (-0.5, 0): plus => 0.8660049627791563, minus => 0.13399503722084366\n",
      "2012-09-05 00:00:00, (0, 0.5): plus => 0.8905775075987842, minus => 0.1094224924012158\n",
      "2012-09-05 00:00:00, (0.5, 1.0): plus => 0.8622950819672132, minus => 0.1377049180327869\n",
      "2012-09-05 00:00:00, (1.0, 1.5): plus => 0.8557692307692307, minus => 0.14423076923076922\n",
      "2012-09-05 00:00:00, (1.5, 2.0): plus => 0.8503937007874016, minus => 0.14960629921259844\n",
      "2012-09-05 00:00:00, (2.0, 99.0): plus => 0.9056603773584906, minus => 0.09433962264150944\n",
      "2012-10-12 00:00:00, (-99.0, 99.0): plus => 0.9459815546772069, minus => 0.05401844532279315\n",
      "2012-10-12 00:00:00, (-99.0, -2.0): plus => 0.9363295880149812, minus => 0.06367041198501873\n",
      "2012-10-12 00:00:00, (-2.0, -1.5): plus => 0.9848866498740554, minus => 0.015113350125944584\n",
      "2012-10-12 00:00:00, (-1.5, -1.0): plus => 0.9581056466302368, minus => 0.04189435336976321\n",
      "2012-10-12 00:00:00, (-1.0, -0.5): plus => 0.952054794520548, minus => 0.04794520547945205\n",
      "2012-10-12 00:00:00, (-0.5, 0): plus => 0.9302949061662198, minus => 0.06970509383378017\n",
      "2012-10-12 00:00:00, (0, 0.5): plus => 0.93, minus => 0.07\n",
      "2012-10-12 00:00:00, (0.5, 1.0): plus => 0.9382716049382716, minus => 0.06172839506172839\n",
      "2012-10-12 00:00:00, (1.0, 1.5): plus => 0.9471153846153846, minus => 0.052884615384615384\n",
      "2012-10-12 00:00:00, (1.5, 2.0): plus => 0.9078947368421053, minus => 0.09210526315789473\n",
      "2012-10-12 00:00:00, (2.0, 99.0): plus => 0.908256880733945, minus => 0.09174311926605505\n"
     ]
    },
    {
     "name": "stderr",
     "output_type": "stream",
     "text": [
      "<ipython-input-15-f02c003211c5>:6: RankWarning: Polyfit may be poorly conditioned\n",
      "  check_df = check(code_list, check_datetime)\n"
     ]
    },
    {
     "name": "stdout",
     "output_type": "stream",
     "text": [
      "2012-11-18 00:00:00, (-99.0, 99.0): plus => 0.9562643867148964, minus => 0.043735613285103586\n",
      "2012-11-18 00:00:00, (-99.0, -2.0): plus => 0.9690721649484536, minus => 0.030927835051546393\n",
      "2012-11-18 00:00:00, (-2.0, -1.5): plus => 0.9607843137254902, minus => 0.0392156862745098\n",
      "2012-11-18 00:00:00, (-1.5, -1.0): plus => 0.9588377723970944, minus => 0.04116222760290557\n",
      "2012-11-18 00:00:00, (-1.0, -0.5): plus => 0.9548133595284872, minus => 0.04518664047151277\n",
      "2012-11-18 00:00:00, (-0.5, 0): plus => 0.9507042253521126, minus => 0.04929577464788732\n"
     ]
    },
    {
     "name": "stderr",
     "output_type": "stream",
     "text": [
      "<ipython-input-15-f02c003211c5>:6: RankWarning: Polyfit may be poorly conditioned\n",
      "  check_df = check(code_list, check_datetime)\n"
     ]
    },
    {
     "name": "stdout",
     "output_type": "stream",
     "text": [
      "2012-11-18 00:00:00, (0, 0.5): plus => 0.97, minus => 0.03\n",
      "2012-11-18 00:00:00, (0.5, 1.0): plus => 0.964516129032258, minus => 0.035483870967741936\n",
      "2012-11-18 00:00:00, (1.0, 1.5): plus => 0.9307958477508651, minus => 0.06920415224913495\n",
      "2012-11-18 00:00:00, (1.5, 2.0): plus => 0.9510869565217391, minus => 0.04891304347826087\n",
      "2012-11-18 00:00:00, (2.0, 99.0): plus => 0.9569377990430622, minus => 0.0430622009569378\n",
      "2012-12-22 00:00:00, (-99.0, 99.0): plus => 0.9460960470434499, minus => 0.05390395295655015\n",
      "2012-12-22 00:00:00, (-99.0, -2.0): plus => 0.7222222222222222, minus => 0.2777777777777778\n",
      "2012-12-22 00:00:00, (-2.0, -1.5): plus => 0.9393939393939394, minus => 0.06060606060606061\n",
      "2012-12-22 00:00:00, (-1.5, -1.0): plus => 0.9166666666666666, minus => 0.08333333333333333\n",
      "2012-12-22 00:00:00, (-1.0, -0.5): plus => 0.9272727272727272, minus => 0.07272727272727272\n",
      "2012-12-22 00:00:00, (-0.5, 0): plus => 0.9449275362318841, minus => 0.05507246376811594\n",
      "2012-12-22 00:00:00, (0, 0.5): plus => 0.9253333333333333, minus => 0.07466666666666667\n",
      "2012-12-22 00:00:00, (0.5, 1.0): plus => 0.9396135265700483, minus => 0.06038647342995169\n",
      "2012-12-22 00:00:00, (1.0, 1.5): plus => 0.9639423076923077, minus => 0.036057692307692304\n",
      "2012-12-22 00:00:00, (1.5, 2.0): plus => 0.9590361445783132, minus => 0.04096385542168675\n",
      "2012-12-22 00:00:00, (2.0, 99.0): plus => 0.9595536959553695, minus => 0.040446304044630406\n",
      "2013-01-12 00:00:00, (-99.0, 99.0): plus => 0.8999021845451581, minus => 0.10009781545484187\n",
      "2013-01-12 00:00:00, (-99.0, -2.0): plus => 0.25, minus => 0.75\n",
      "2013-01-12 00:00:00, (-2.0, -1.5): plus => 1.0, minus => 0.0\n",
      "2013-01-12 00:00:00, (-1.5, -1.0): plus => 0.7619047619047619, minus => 0.23809523809523808\n",
      "2013-01-12 00:00:00, (-1.0, -0.5): plus => 0.7634408602150538, minus => 0.23655913978494625\n",
      "2013-01-12 00:00:00, (-0.5, 0): plus => 0.9432624113475178, minus => 0.05673758865248227\n",
      "2013-01-12 00:00:00, (0, 0.5): plus => 0.8717948717948718, minus => 0.1282051282051282\n",
      "2013-01-12 00:00:00, (0.5, 1.0): plus => 0.8713826366559485, minus => 0.12861736334405144\n",
      "2013-01-12 00:00:00, (1.0, 1.5): plus => 0.9242819843342036, minus => 0.07571801566579635\n",
      "2013-01-12 00:00:00, (1.5, 2.0): plus => 0.9095607235142119, minus => 0.09043927648578812\n",
      "2013-01-12 00:00:00, (2.0, 99.0): plus => 0.9108367626886146, minus => 0.08916323731138547\n",
      "2013-02-15 00:00:00, (-99.0, 99.0): plus => 0.7565104166666666, minus => 0.24348958333333334\n",
      "2013-02-15 00:00:00, (-99.0, -2.0): plus => 0.38095238095238093, minus => 0.6190476190476191\n",
      "2013-02-15 00:00:00, (-2.0, -1.5): plus => 0.6774193548387096, minus => 0.3225806451612903\n",
      "2013-02-15 00:00:00, (-1.5, -1.0): plus => 0.6428571428571429, minus => 0.35714285714285715\n",
      "2013-02-15 00:00:00, (-1.0, -0.5): plus => 0.7419354838709677, minus => 0.25806451612903225\n",
      "2013-02-15 00:00:00, (-0.5, 0): plus => 0.7794871794871795, minus => 0.2205128205128205\n",
      "2013-02-15 00:00:00, (0, 0.5): plus => 0.7007042253521126, minus => 0.2992957746478873\n",
      "2013-02-15 00:00:00, (0.5, 1.0): plus => 0.7420924574209246, minus => 0.25790754257907544\n",
      "2013-02-15 00:00:00, (1.0, 1.5): plus => 0.7293233082706767, minus => 0.2706766917293233\n",
      "2013-02-15 00:00:00, (1.5, 2.0): plus => 0.7709090909090909, minus => 0.2290909090909091\n",
      "2013-02-15 00:00:00, (2.0, 99.0): plus => 0.8076463560334528, minus => 0.1923536439665472\n",
      "2013-02-28 00:00:00, (-99.0, 99.0): plus => 0.6833387463462163, minus => 0.31666125365378367\n",
      "2013-02-28 00:00:00, (-99.0, -2.0): plus => 0.4, minus => 0.6\n",
      "2013-02-28 00:00:00, (-2.0, -1.5): plus => 0.35714285714285715, minus => 0.6428571428571429\n",
      "2013-02-28 00:00:00, (-1.5, -1.0): plus => 0.6111111111111112, minus => 0.3888888888888889\n",
      "2013-02-28 00:00:00, (-1.0, -0.5): plus => 0.6103896103896104, minus => 0.38961038961038963\n",
      "2013-02-28 00:00:00, (-0.5, 0): plus => 0.717391304347826, minus => 0.2826086956521739\n",
      "2013-02-28 00:00:00, (0, 0.5): plus => 0.6782178217821783, minus => 0.3217821782178218\n",
      "2013-02-28 00:00:00, (0.5, 1.0): plus => 0.7033333333333334, minus => 0.2966666666666667\n",
      "2013-02-28 00:00:00, (1.0, 1.5): plus => 0.6757990867579908, minus => 0.3242009132420091\n",
      "2013-02-28 00:00:00, (1.5, 2.0): plus => 0.673721340388007, minus => 0.3262786596119929\n",
      "2013-02-28 00:00:00, (2.0, 99.0): plus => 0.6947040498442367, minus => 0.3052959501557632\n",
      "2013-04-07 00:00:00, (-99.0, 99.0): plus => 0.4964470284237726, minus => 0.5035529715762274\n",
      "2013-04-07 00:00:00, (-99.0, -2.0): plus => 0.2727272727272727, minus => 0.7272727272727273\n",
      "2013-04-07 00:00:00, (-2.0, -1.5): plus => 0.25, minus => 0.75\n",
      "2013-04-07 00:00:00, (-1.5, -1.0): plus => 0.3953488372093023, minus => 0.6046511627906976\n",
      "2013-04-07 00:00:00, (-1.0, -0.5): plus => 0.5294117647058824, minus => 0.47058823529411764\n",
      "2013-04-07 00:00:00, (-0.5, 0): plus => 0.4915254237288136, minus => 0.5084745762711864\n",
      "2013-04-07 00:00:00, (0, 0.5): plus => 0.5482233502538071, minus => 0.4517766497461929\n",
      "2013-04-07 00:00:00, (0.5, 1.0): plus => 0.546242774566474, minus => 0.45375722543352603\n",
      "2013-04-07 00:00:00, (1.0, 1.5): plus => 0.5078125, minus => 0.4921875\n",
      "2013-04-07 00:00:00, (1.5, 2.0): plus => 0.5172413793103449, minus => 0.4827586206896552\n",
      "2013-04-07 00:00:00, (2.0, 99.0): plus => 0.46601146601146604, minus => 0.533988533988534\n",
      "2013-05-04 00:00:00, (-99.0, 99.0): plus => 0.4605475040257649, minus => 0.5394524959742351\n",
      "2013-05-04 00:00:00, (-99.0, -2.0): plus => 0.25, minus => 0.75\n",
      "2013-05-04 00:00:00, (-2.0, -1.5): plus => 0.5, minus => 0.5\n",
      "2013-05-04 00:00:00, (-1.5, -1.0): plus => 0.5, minus => 0.5\n",
      "2013-05-04 00:00:00, (-1.0, -0.5): plus => 0.30434782608695654, minus => 0.6956521739130435\n",
      "2013-05-04 00:00:00, (-0.5, 0): plus => 0.38095238095238093, minus => 0.6190476190476191\n",
      "2013-05-04 00:00:00, (0, 0.5): plus => 0.5, minus => 0.5\n",
      "2013-05-04 00:00:00, (0.5, 1.0): plus => 0.48535564853556484, minus => 0.5146443514644351\n",
      "2013-05-04 00:00:00, (1.0, 1.5): plus => 0.543424317617866, minus => 0.456575682382134\n",
      "2013-05-04 00:00:00, (1.5, 2.0): plus => 0.4750402576489533, minus => 0.5249597423510467\n",
      "2013-05-04 00:00:00, (2.0, 99.0): plus => 0.43575418994413406, minus => 0.5642458100558659\n",
      "2013-06-25 00:00:00, (-99.0, 99.0): plus => 0.7150658528750402, minus => 0.28493414712495985\n",
      "2013-06-25 00:00:00, (-99.0, -2.0): plus => 0.7368421052631579, minus => 0.2631578947368421\n",
      "2013-06-25 00:00:00, (-2.0, -1.5): plus => 0.5, minus => 0.5\n",
      "2013-06-25 00:00:00, (-1.5, -1.0): plus => 0.6206896551724138, minus => 0.3793103448275862\n",
      "2013-06-25 00:00:00, (-1.0, -0.5): plus => 0.7534246575342466, minus => 0.2465753424657534\n",
      "2013-06-25 00:00:00, (-0.5, 0): plus => 0.7531645569620253, minus => 0.2468354430379747\n",
      "2013-06-25 00:00:00, (0, 0.5): plus => 0.752755905511811, minus => 0.247244094488189\n",
      "2013-06-25 00:00:00, (0.5, 1.0): plus => 0.7230215827338129, minus => 0.27697841726618705\n",
      "2013-06-25 00:00:00, (1.0, 1.5): plus => 0.7112561174551386, minus => 0.28874388254486133\n",
      "2013-06-25 00:00:00, (1.5, 2.0): plus => 0.6468531468531469, minus => 0.3531468531468531\n",
      "2013-06-25 00:00:00, (2.0, 99.0): plus => 0.6271186440677966, minus => 0.3728813559322034\n",
      "2013-07-08 00:00:00, (-99.0, 99.0): plus => 0.7159345944212889, minus => 0.2840654055787111\n",
      "2013-07-08 00:00:00, (-99.0, -2.0): plus => 0.6666666666666666, minus => 0.3333333333333333\n",
      "2013-07-08 00:00:00, (-2.0, -1.5): plus => 0.5357142857142857, minus => 0.4642857142857143\n",
      "2013-07-08 00:00:00, (-1.5, -1.0): plus => 0.5384615384615384, minus => 0.46153846153846156\n",
      "2013-07-08 00:00:00, (-1.0, -0.5): plus => 0.651685393258427, minus => 0.34831460674157305\n",
      "2013-07-08 00:00:00, (-0.5, 0): plus => 0.6390532544378699, minus => 0.3609467455621302\n",
      "2013-07-08 00:00:00, (0, 0.5): plus => 0.7911227154046997, minus => 0.20887728459530025\n",
      "2013-07-08 00:00:00, (0.5, 1.0): plus => 0.7436918990703851, minus => 0.25630810092961487\n",
      "2013-07-08 00:00:00, (1.0, 1.5): plus => 0.7470308788598575, minus => 0.2529691211401425\n",
      "2013-07-08 00:00:00, (1.5, 2.0): plus => 0.6724738675958188, minus => 0.32752613240418116\n",
      "2013-07-08 00:00:00, (2.0, 99.0): plus => 0.6363636363636364, minus => 0.36363636363636365\n",
      "2013-08-20 00:00:00, (-99.0, 99.0): plus => 0.7515209734229907, minus => 0.2484790265770093\n",
      "2013-08-20 00:00:00, (-99.0, -2.0): plus => 0.46153846153846156, minus => 0.5384615384615384\n",
      "2013-08-20 00:00:00, (-2.0, -1.5): plus => 0.7428571428571429, minus => 0.2571428571428571\n",
      "2013-08-20 00:00:00, (-1.5, -1.0): plus => 0.6419753086419753, minus => 0.35802469135802467\n",
      "2013-08-20 00:00:00, (-1.0, -0.5): plus => 0.7290322580645161, minus => 0.2709677419354839\n",
      "2013-08-20 00:00:00, (-0.5, 0): plus => 0.746268656716418, minus => 0.2537313432835821\n",
      "2013-08-20 00:00:00, (0, 0.5): plus => 0.7699859747545582, minus => 0.2300140252454418\n",
      "2013-08-20 00:00:00, (0.5, 1.0): plus => 0.7705479452054794, minus => 0.22945205479452055\n",
      "2013-08-20 00:00:00, (1.0, 1.5): plus => 0.7620751341681574, minus => 0.23792486583184258\n",
      "2013-08-20 00:00:00, (1.5, 2.0): plus => 0.717391304347826, minus => 0.2826086956521739\n",
      "2013-08-20 00:00:00, (2.0, 99.0): plus => 0.6746031746031746, minus => 0.3253968253968254\n",
      "2013-08-30 00:00:00, (-99.0, 99.0): plus => 0.7445582586427657, minus => 0.2554417413572343\n",
      "2013-08-30 00:00:00, (-99.0, -2.0): plus => 0.5909090909090909, minus => 0.4090909090909091\n",
      "2013-08-30 00:00:00, (-2.0, -1.5): plus => 0.5833333333333334, minus => 0.4166666666666667\n",
      "2013-08-30 00:00:00, (-1.5, -1.0): plus => 0.6869565217391305, minus => 0.3130434782608696\n",
      "2013-08-30 00:00:00, (-1.0, -0.5): plus => 0.797979797979798, minus => 0.20202020202020202\n",
      "2013-08-30 00:00:00, (-0.5, 0): plus => 0.7401247401247402, minus => 0.2598752598752599\n",
      "2013-08-30 00:00:00, (0, 0.5): plus => 0.7534591194968554, minus => 0.24654088050314465\n",
      "2013-08-30 00:00:00, (0.5, 1.0): plus => 0.7823303457106274, minus => 0.2176696542893726\n",
      "2013-08-30 00:00:00, (1.0, 1.5): plus => 0.7246049661399548, minus => 0.27539503386004516\n",
      "2013-08-30 00:00:00, (1.5, 2.0): plus => 0.6451612903225806, minus => 0.3548387096774194\n",
      "2013-08-30 00:00:00, (2.0, 99.0): plus => 0.7093023255813954, minus => 0.29069767441860467\n",
      "2013-10-10 00:00:00, (-99.0, 99.0): plus => 0.594517054510679, minus => 0.405482945489321\n",
      "2013-10-10 00:00:00, (-99.0, -2.0): plus => 0.3333333333333333, minus => 0.6666666666666666\n",
      "2013-10-10 00:00:00, (-2.0, -1.5): plus => 0.39285714285714285, minus => 0.6071428571428571\n",
      "2013-10-10 00:00:00, (-1.5, -1.0): plus => 0.5301204819277109, minus => 0.46987951807228917\n",
      "2013-10-10 00:00:00, (-1.0, -0.5): plus => 0.53125, minus => 0.46875\n",
      "2013-10-10 00:00:00, (-0.5, 0): plus => 0.5929203539823009, minus => 0.40707964601769914\n",
      "2013-10-10 00:00:00, (0, 0.5): plus => 0.6298600311041991, minus => 0.3701399688958009\n",
      "2013-10-10 00:00:00, (0.5, 1.0): plus => 0.6177829099307159, minus => 0.38221709006928406\n",
      "2013-10-10 00:00:00, (1.0, 1.5): plus => 0.6014492753623188, minus => 0.39855072463768115\n",
      "2013-10-10 00:00:00, (1.5, 2.0): plus => 0.5873015873015873, minus => 0.4126984126984127\n",
      "2013-10-10 00:00:00, (2.0, 99.0): plus => 0.49038461538461536, minus => 0.5096153846153846\n"
     ]
    },
    {
     "name": "stderr",
     "output_type": "stream",
     "text": [
      "<ipython-input-15-f02c003211c5>:6: RankWarning: Polyfit may be poorly conditioned\n",
      "  check_df = check(code_list, check_datetime)\n"
     ]
    },
    {
     "name": "stdout",
     "output_type": "stream",
     "text": [
      "2013-10-26 00:00:00, (-99.0, 99.0): plus => 0.5411089866156787, minus => 0.4588910133843212\n",
      "2013-10-26 00:00:00, (-99.0, -2.0): plus => 0.0, minus => 1.0\n",
      "2013-10-26 00:00:00, (-2.0, -1.5): plus => 0.4375, minus => 0.5625\n",
      "2013-10-26 00:00:00, (-1.5, -1.0): plus => 0.509090909090909, minus => 0.4909090909090909\n",
      "2013-10-26 00:00:00, (-1.0, -0.5): plus => 0.43373493975903615, minus => 0.5662650602409639\n"
     ]
    },
    {
     "name": "stderr",
     "output_type": "stream",
     "text": [
      "<ipython-input-15-f02c003211c5>:6: RankWarning: Polyfit may be poorly conditioned\n",
      "  check_df = check(code_list, check_datetime)\n"
     ]
    },
    {
     "name": "stdout",
     "output_type": "stream",
     "text": [
      "2013-10-26 00:00:00, (-0.5, 0): plus => 0.5694915254237288, minus => 0.43050847457627117\n",
      "2013-10-26 00:00:00, (0, 0.5): plus => 0.5456026058631922, minus => 0.4543973941368078\n",
      "2013-10-26 00:00:00, (0.5, 1.0): plus => 0.549636803874092, minus => 0.45036319612590797\n",
      "2013-10-26 00:00:00, (1.0, 1.5): plus => 0.5707154742096506, minus => 0.4292845257903494\n",
      "2013-10-26 00:00:00, (1.5, 2.0): plus => 0.5447470817120622, minus => 0.45525291828793774\n",
      "2013-10-26 00:00:00, (2.0, 99.0): plus => 0.4934640522875817, minus => 0.5065359477124183\n"
     ]
    },
    {
     "name": "stderr",
     "output_type": "stream",
     "text": [
      "<ipython-input-15-f02c003211c5>:6: RankWarning: Polyfit may be poorly conditioned\n",
      "  check_df = check(code_list, check_datetime)\n"
     ]
    },
    {
     "name": "stdout",
     "output_type": "stream",
     "text": [
      "2013-12-06 00:00:00, (-99.0, 99.0): plus => 0.38813075214217707, minus => 0.6118692478578229\n",
      "2013-12-06 00:00:00, (-99.0, -2.0): plus => 0.38461538461538464, minus => 0.6153846153846154\n"
     ]
    },
    {
     "name": "stderr",
     "output_type": "stream",
     "text": [
      "<ipython-input-15-f02c003211c5>:6: RankWarning: Polyfit may be poorly conditioned\n",
      "  check_df = check(code_list, check_datetime)\n"
     ]
    },
    {
     "name": "stdout",
     "output_type": "stream",
     "text": [
      "2013-12-06 00:00:00, (-2.0, -1.5): plus => 0.5, minus => 0.5\n",
      "2013-12-06 00:00:00, (-1.5, -1.0): plus => 0.4174757281553398, minus => 0.5825242718446602\n",
      "2013-12-06 00:00:00, (-1.0, -0.5): plus => 0.3879310344827586, minus => 0.6120689655172413\n",
      "2013-12-06 00:00:00, (-0.5, 0): plus => 0.3546666666666667, minus => 0.6453333333333333\n",
      "2013-12-06 00:00:00, (0, 0.5): plus => 0.3985239852398524, minus => 0.6014760147601476\n",
      "2013-12-06 00:00:00, (0.5, 1.0): plus => 0.40888208269525267, minus => 0.5911179173047473\n",
      "2013-12-06 00:00:00, (1.0, 1.5): plus => 0.37364620938628157, minus => 0.6263537906137184\n",
      "2013-12-06 00:00:00, (1.5, 2.0): plus => 0.367816091954023, minus => 0.632183908045977\n",
      "2013-12-06 00:00:00, (2.0, 99.0): plus => 0.3973941368078176, minus => 0.6026058631921825\n"
     ]
    },
    {
     "name": "stderr",
     "output_type": "stream",
     "text": [
      "<ipython-input-15-f02c003211c5>:6: RankWarning: Polyfit may be poorly conditioned\n",
      "  check_df = check(code_list, check_datetime)\n"
     ]
    },
    {
     "name": "stdout",
     "output_type": "stream",
     "text": [
      "2014-01-10 00:00:00, (-99.0, 99.0): plus => 0.371013577518156, minus => 0.628986422481844\n",
      "2014-01-10 00:00:00, (-99.0, -2.0): plus => 1.0, minus => 0.0\n",
      "2014-01-10 00:00:00, (-2.0, -1.5): plus => 0.4, minus => 0.6\n"
     ]
    },
    {
     "name": "stderr",
     "output_type": "stream",
     "text": [
      "<ipython-input-15-f02c003211c5>:6: RankWarning: Polyfit may be poorly conditioned\n",
      "  check_df = check(code_list, check_datetime)\n"
     ]
    },
    {
     "name": "stdout",
     "output_type": "stream",
     "text": [
      "2014-01-10 00:00:00, (-1.5, -1.0): plus => 0.35294117647058826, minus => 0.6470588235294118\n",
      "2014-01-10 00:00:00, (-1.0, -0.5): plus => 0.3502824858757062, minus => 0.6497175141242938\n",
      "2014-01-10 00:00:00, (-0.5, 0): plus => 0.36774193548387096, minus => 0.632258064516129\n",
      "2014-01-10 00:00:00, (0, 0.5): plus => 0.36553524804177545, minus => 0.6344647519582245\n",
      "2014-01-10 00:00:00, (0.5, 1.0): plus => 0.4135188866799205, minus => 0.5864811133200796\n",
      "2014-01-10 00:00:00, (1.0, 1.5): plus => 0.3654223968565815, minus => 0.6345776031434185\n",
      "2014-01-10 00:00:00, (1.5, 2.0): plus => 0.3758099352051836, minus => 0.6241900647948164\n",
      "2014-01-10 00:00:00, (2.0, 99.0): plus => 0.35020519835841313, minus => 0.6497948016415869\n",
      "2014-01-23 00:00:00, (-99.0, 99.0): plus => 0.4130091569308494, minus => 0.5869908430691506\n",
      "2014-01-23 00:00:00, (-99.0, -2.0): plus => 0.6, minus => 0.4\n",
      "2014-01-23 00:00:00, (-2.0, -1.5): plus => 0.25, minus => 0.75\n",
      "2014-01-23 00:00:00, (-1.5, -1.0): plus => 0.4, minus => 0.6\n",
      "2014-01-23 00:00:00, (-1.0, -0.5): plus => 0.40384615384615385, minus => 0.5961538461538461\n",
      "2014-01-23 00:00:00, (-0.5, 0): plus => 0.45907473309608543, minus => 0.5409252669039146\n",
      "2014-01-23 00:00:00, (0, 0.5): plus => 0.4128686327077748, minus => 0.5871313672922251\n",
      "2014-01-23 00:00:00, (0.5, 1.0): plus => 0.4684095860566449, minus => 0.5315904139433552\n",
      "2014-01-23 00:00:00, (1.0, 1.5): plus => 0.40037950664136623, minus => 0.5996204933586338\n",
      "2014-01-23 00:00:00, (1.5, 2.0): plus => 0.4088050314465409, minus => 0.5911949685534591\n",
      "2014-01-23 00:00:00, (2.0, 99.0): plus => 0.38042131350681535, minus => 0.6195786864931846\n",
      "2014-02-24 00:00:00, (-99.0, 99.0): plus => 0.6351606805293005, minus => 0.3648393194706994\n",
      "2014-02-24 00:00:00, (-99.0, -2.0): plus => 0.5, minus => 0.5\n",
      "2014-02-24 00:00:00, (-2.0, -1.5): plus => 0.6842105263157895, minus => 0.3157894736842105\n",
      "2014-02-24 00:00:00, (-1.5, -1.0): plus => 0.6920152091254753, minus => 0.30798479087452474\n",
      "2014-02-24 00:00:00, (-1.0, -0.5): plus => 0.616751269035533, minus => 0.383248730964467\n",
      "2014-02-24 00:00:00, (-0.5, 0): plus => 0.6109839816933639, minus => 0.3890160183066362\n",
      "2014-02-24 00:00:00, (0, 0.5): plus => 0.6623093681917211, minus => 0.33769063180827885\n",
      "2014-02-24 00:00:00, (0.5, 1.0): plus => 0.6402321083172147, minus => 0.3597678916827853\n",
      "2014-02-24 00:00:00, (1.0, 1.5): plus => 0.6605080831408776, minus => 0.3394919168591224\n",
      "2014-02-24 00:00:00, (1.5, 2.0): plus => 0.609271523178808, minus => 0.39072847682119205\n",
      "2014-02-24 00:00:00, (2.0, 99.0): plus => 0.5762081784386617, minus => 0.42379182156133827\n",
      "2014-03-25 00:00:00, (-99.0, 99.0): plus => 0.7658505963590709, minus => 0.23414940364092907\n",
      "2014-03-25 00:00:00, (-99.0, -2.0): plus => 0.7411764705882353, minus => 0.25882352941176473\n",
      "2014-03-25 00:00:00, (-2.0, -1.5): plus => 0.7514792899408284, minus => 0.2485207100591716\n",
      "2014-03-25 00:00:00, (-1.5, -1.0): plus => 0.7632978723404256, minus => 0.23670212765957446\n",
      "2014-03-25 00:00:00, (-1.0, -0.5): plus => 0.7511210762331838, minus => 0.24887892376681614\n",
      "2014-03-25 00:00:00, (-0.5, 0): plus => 0.7639198218262806, minus => 0.23608017817371937\n",
      "2014-03-25 00:00:00, (0, 0.5): plus => 0.780114722753346, minus => 0.2198852772466539\n",
      "2014-03-25 00:00:00, (0.5, 1.0): plus => 0.7670588235294118, minus => 0.23294117647058823\n",
      "2014-03-25 00:00:00, (1.0, 1.5): plus => 0.7945619335347432, minus => 0.2054380664652568\n",
      "2014-03-25 00:00:00, (1.5, 2.0): plus => 0.7761194029850746, minus => 0.22388059701492538\n",
      "2014-03-25 00:00:00, (2.0, 99.0): plus => 0.7292817679558011, minus => 0.27071823204419887\n",
      "2014-04-28 00:00:00, (-99.0, 99.0): plus => 0.8208255159474672, minus => 0.17917448405253283\n",
      "2014-04-28 00:00:00, (-99.0, -2.0): plus => 0.7586206896551724, minus => 0.2413793103448276\n",
      "2014-04-28 00:00:00, (-2.0, -1.5): plus => 0.8142076502732241, minus => 0.18579234972677597\n",
      "2014-04-28 00:00:00, (-1.5, -1.0): plus => 0.795, minus => 0.205\n",
      "2014-04-28 00:00:00, (-1.0, -0.5): plus => 0.8333333333333334, minus => 0.16666666666666666\n",
      "2014-04-28 00:00:00, (-0.5, 0): plus => 0.8114602587800369, minus => 0.18853974121996303\n",
      "2014-04-28 00:00:00, (0, 0.5): plus => 0.8451882845188284, minus => 0.15481171548117154\n",
      "2014-04-28 00:00:00, (0.5, 1.0): plus => 0.849438202247191, minus => 0.15056179775280898\n",
      "2014-04-28 00:00:00, (1.0, 1.5): plus => 0.8106508875739645, minus => 0.1893491124260355\n",
      "2014-04-28 00:00:00, (1.5, 2.0): plus => 0.7887323943661971, minus => 0.2112676056338028\n",
      "2014-04-28 00:00:00, (2.0, 99.0): plus => 0.7981651376146789, minus => 0.2018348623853211\n",
      "2014-05-27 00:00:00, (-99.0, 99.0): plus => 0.7446076899030947, minus => 0.2553923100969053\n",
      "2014-05-27 00:00:00, (-99.0, -2.0): plus => 0.5869565217391305, minus => 0.41304347826086957\n",
      "2014-05-27 00:00:00, (-2.0, -1.5): plus => 0.6666666666666666, minus => 0.3333333333333333\n",
      "2014-05-27 00:00:00, (-1.5, -1.0): plus => 0.6712707182320442, minus => 0.3287292817679558\n",
      "2014-05-27 00:00:00, (-1.0, -0.5): plus => 0.7127192982456141, minus => 0.28728070175438597\n",
      "2014-05-27 00:00:00, (-0.5, 0): plus => 0.7721021611001965, minus => 0.22789783889980353\n",
      "2014-05-27 00:00:00, (0, 0.5): plus => 0.8004434589800443, minus => 0.19955654101995565\n",
      "2014-05-27 00:00:00, (0.5, 1.0): plus => 0.7793427230046949, minus => 0.22065727699530516\n",
      "2014-05-27 00:00:00, (1.0, 1.5): plus => 0.7464788732394366, minus => 0.2535211267605634\n",
      "2014-05-27 00:00:00, (1.5, 2.0): plus => 0.8246753246753247, minus => 0.17532467532467533\n",
      "2014-05-27 00:00:00, (2.0, 99.0): plus => 0.7623762376237624, minus => 0.2376237623762376\n",
      "2014-07-14 00:00:00, (-99.0, 99.0): plus => 0.6304144593331256, minus => 0.36958554066687443\n",
      "2014-07-14 00:00:00, (-99.0, -2.0): plus => 0.3333333333333333, minus => 0.6666666666666666\n",
      "2014-07-14 00:00:00, (-2.0, -1.5): plus => 0.55, minus => 0.45\n",
      "2014-07-14 00:00:00, (-1.5, -1.0): plus => 0.4972375690607735, minus => 0.5027624309392266\n",
      "2014-07-14 00:00:00, (-1.0, -0.5): plus => 0.5410764872521246, minus => 0.45892351274787535\n",
      "2014-07-14 00:00:00, (-0.5, 0): plus => 0.5569948186528497, minus => 0.4430051813471503\n",
      "2014-07-14 00:00:00, (0, 0.5): plus => 0.6226415094339622, minus => 0.37735849056603776\n",
      "2014-07-14 00:00:00, (0.5, 1.0): plus => 0.6694915254237288, minus => 0.3305084745762712\n",
      "2014-07-14 00:00:00, (1.0, 1.5): plus => 0.701123595505618, minus => 0.298876404494382\n",
      "2014-07-14 00:00:00, (1.5, 2.0): plus => 0.6790450928381963, minus => 0.3209549071618037\n",
      "2014-07-14 00:00:00, (2.0, 99.0): plus => 0.6742424242424242, minus => 0.32575757575757575\n"
     ]
    },
    {
     "name": "stderr",
     "output_type": "stream",
     "text": [
      "<ipython-input-15-f02c003211c5>:6: RankWarning: Polyfit may be poorly conditioned\n",
      "  check_df = check(code_list, check_datetime)\n"
     ]
    },
    {
     "name": "stdout",
     "output_type": "stream",
     "text": [
      "2014-08-01 00:00:00, (-99.0, 99.0): plus => 0.6284646527561507, minus => 0.3715353472438493\n",
      "2014-08-01 00:00:00, (-99.0, -2.0): plus => 0.6, minus => 0.4\n",
      "2014-08-01 00:00:00, (-2.0, -1.5): plus => 0.48936170212765956, minus => 0.5106382978723404\n",
      "2014-08-01 00:00:00, (-1.5, -1.0): plus => 0.553763440860215, minus => 0.44623655913978494\n",
      "2014-08-01 00:00:00, (-1.0, -0.5): plus => 0.5303867403314917, minus => 0.4696132596685083\n",
      "2014-08-01 00:00:00, (-0.5, 0): plus => 0.5926892950391645, minus => 0.4073107049608355\n",
      "2014-08-01 00:00:00, (0, 0.5): plus => 0.6428571428571429, minus => 0.35714285714285715\n",
      "2014-08-01 00:00:00, (0.5, 1.0): plus => 0.6139088729016786, minus => 0.38609112709832133\n",
      "2014-08-01 00:00:00, (1.0, 1.5): plus => 0.6825095057034221, minus => 0.31749049429657794\n"
     ]
    },
    {
     "name": "stderr",
     "output_type": "stream",
     "text": [
      "<ipython-input-15-f02c003211c5>:6: RankWarning: Polyfit may be poorly conditioned\n",
      "  check_df = check(code_list, check_datetime)\n"
     ]
    },
    {
     "name": "stdout",
     "output_type": "stream",
     "text": [
      "2014-08-01 00:00:00, (1.5, 2.0): plus => 0.6575682382133995, minus => 0.3424317617866005\n",
      "2014-08-01 00:00:00, (2.0, 99.0): plus => 0.689795918367347, minus => 0.31020408163265306\n"
     ]
    },
    {
     "name": "stderr",
     "output_type": "stream",
     "text": [
      "<ipython-input-15-f02c003211c5>:6: RankWarning: Polyfit may be poorly conditioned\n",
      "  check_df = check(code_list, check_datetime)\n"
     ]
    },
    {
     "name": "stdout",
     "output_type": "stream",
     "text": [
      "2014-09-03 00:00:00, (-99.0, 99.0): plus => 0.6528642590286425, minus => 0.3471357409713574\n",
      "2014-09-03 00:00:00, (-99.0, -2.0): plus => 0.6, minus => 0.4\n",
      "2014-09-03 00:00:00, (-2.0, -1.5): plus => 0.5135135135135135, minus => 0.4864864864864865\n",
      "2014-09-03 00:00:00, (-1.5, -1.0): plus => 0.4855072463768116, minus => 0.5144927536231884\n",
      "2014-09-03 00:00:00, (-1.0, -0.5): plus => 0.5920245398773006, minus => 0.40797546012269936\n",
      "2014-09-03 00:00:00, (-0.5, 0): plus => 0.5389048991354467, minus => 0.4610951008645533\n",
      "2014-09-03 00:00:00, (0, 0.5): plus => 0.6412213740458015, minus => 0.35877862595419846\n",
      "2014-09-03 00:00:00, (0.5, 1.0): plus => 0.6786632390745502, minus => 0.3213367609254499\n",
      "2014-09-03 00:00:00, (1.0, 1.5): plus => 0.6955503512880562, minus => 0.3044496487119438\n"
     ]
    },
    {
     "name": "stderr",
     "output_type": "stream",
     "text": [
      "<ipython-input-15-f02c003211c5>:6: RankWarning: Polyfit may be poorly conditioned\n",
      "  check_df = check(code_list, check_datetime)\n"
     ]
    },
    {
     "name": "stdout",
     "output_type": "stream",
     "text": [
      "2014-09-03 00:00:00, (1.5, 2.0): plus => 0.7107438016528925, minus => 0.2892561983471074\n",
      "2014-09-03 00:00:00, (2.0, 99.0): plus => 0.708018154311649, minus => 0.291981845688351\n",
      "2014-10-19 00:00:00, (-99.0, 99.0): plus => 0.7685156492097924, minus => 0.23148435079020763\n",
      "2014-10-19 00:00:00, (-99.0, -2.0): plus => 0.7942238267148014, minus => 0.20577617328519857\n",
      "2014-10-19 00:00:00, (-2.0, -1.5): plus => 0.7682926829268293, minus => 0.23170731707317074\n",
      "2014-10-19 00:00:00, (-1.5, -1.0): plus => 0.7633410672853829, minus => 0.23665893271461716\n",
      "2014-10-19 00:00:00, (-1.0, -0.5): plus => 0.7813267813267813, minus => 0.21867321867321868\n",
      "2014-10-19 00:00:00, (-0.5, 0): plus => 0.7547619047619047, minus => 0.24523809523809523\n",
      "2014-10-19 00:00:00, (0, 0.5): plus => 0.7942477876106194, minus => 0.20575221238938052\n",
      "2014-10-19 00:00:00, (0.5, 1.0): plus => 0.8129496402877698, minus => 0.18705035971223022\n",
      "2014-10-19 00:00:00, (1.0, 1.5): plus => 0.748062015503876, minus => 0.25193798449612403\n",
      "2014-10-19 00:00:00, (1.5, 2.0): plus => 0.6506849315068494, minus => 0.3493150684931507\n",
      "2014-10-19 00:00:00, (2.0, 99.0): plus => 0.6373626373626373, minus => 0.3626373626373626\n"
     ]
    },
    {
     "name": "stderr",
     "output_type": "stream",
     "text": [
      "<ipython-input-15-f02c003211c5>:6: RankWarning: Polyfit may be poorly conditioned\n",
      "  check_df = check(code_list, check_datetime)\n",
      "<ipython-input-15-f02c003211c5>:6: RankWarning: Polyfit may be poorly conditioned\n",
      "  check_df = check(code_list, check_datetime)\n"
     ]
    },
    {
     "name": "stdout",
     "output_type": "stream",
     "text": [
      "2014-11-18 00:00:00, (-99.0, 99.0): plus => 0.7792890262751159, minus => 0.22071097372488407\n",
      "2014-11-18 00:00:00, (-99.0, -2.0): plus => 0.6046511627906976, minus => 0.3953488372093023\n",
      "2014-11-18 00:00:00, (-2.0, -1.5): plus => 0.6630434782608695, minus => 0.33695652173913043\n",
      "2014-11-18 00:00:00, (-1.5, -1.0): plus => 0.6571428571428571, minus => 0.34285714285714286\n",
      "2014-11-18 00:00:00, (-1.0, -0.5): plus => 0.7124600638977636, minus => 0.28753993610223644\n",
      "2014-11-18 00:00:00, (-0.5, 0): plus => 0.7694610778443114, minus => 0.23053892215568864\n"
     ]
    },
    {
     "name": "stderr",
     "output_type": "stream",
     "text": [
      "<ipython-input-15-f02c003211c5>:6: RankWarning: Polyfit may be poorly conditioned\n",
      "  check_df = check(code_list, check_datetime)\n"
     ]
    },
    {
     "name": "stdout",
     "output_type": "stream",
     "text": [
      "2014-11-18 00:00:00, (0, 0.5): plus => 0.8025641025641026, minus => 0.19743589743589743\n"
     ]
    },
    {
     "name": "stderr",
     "output_type": "stream",
     "text": [
      "<ipython-input-15-f02c003211c5>:6: RankWarning: Polyfit may be poorly conditioned\n",
      "  check_df = check(code_list, check_datetime)\n"
     ]
    },
    {
     "name": "stdout",
     "output_type": "stream",
     "text": [
      "2014-11-18 00:00:00, (0.5, 1.0): plus => 0.7790432801822323, minus => 0.22095671981776766\n",
      "2014-11-18 00:00:00, (1.0, 1.5): plus => 0.8165548098434005, minus => 0.18344519015659955\n",
      "2014-11-18 00:00:00, (1.5, 2.0): plus => 0.7835051546391752, minus => 0.21649484536082475\n",
      "2014-11-18 00:00:00, (2.0, 99.0): plus => 0.8497409326424871, minus => 0.15025906735751296\n"
     ]
    },
    {
     "name": "stderr",
     "output_type": "stream",
     "text": [
      "<ipython-input-15-f02c003211c5>:6: RankWarning: Polyfit may be poorly conditioned\n",
      "  check_df = check(code_list, check_datetime)\n"
     ]
    },
    {
     "name": "stdout",
     "output_type": "stream",
     "text": [
      "2014-12-08 00:00:00, (-99.0, 99.0): plus => 0.7703452527743526, minus => 0.22965474722564735\n",
      "2014-12-08 00:00:00, (-99.0, -2.0): plus => 0.25, minus => 0.75\n",
      "2014-12-08 00:00:00, (-2.0, -1.5): plus => 0.6595744680851063, minus => 0.3404255319148936\n",
      "2014-12-08 00:00:00, (-1.5, -1.0): plus => 0.6756756756756757, minus => 0.32432432432432434\n",
      "2014-12-08 00:00:00, (-1.0, -0.5): plus => 0.639344262295082, minus => 0.36065573770491804\n",
      "2014-12-08 00:00:00, (-0.5, 0): plus => 0.7702265372168284, minus => 0.2297734627831715\n"
     ]
    },
    {
     "name": "stderr",
     "output_type": "stream",
     "text": [
      "<ipython-input-15-f02c003211c5>:6: RankWarning: Polyfit may be poorly conditioned\n",
      "  check_df = check(code_list, check_datetime)\n"
     ]
    },
    {
     "name": "stdout",
     "output_type": "stream",
     "text": [
      "2014-12-08 00:00:00, (0, 0.5): plus => 0.7697160883280757, minus => 0.2302839116719243\n",
      "2014-12-08 00:00:00, (0.5, 1.0): plus => 0.7764705882352941, minus => 0.2235294117647059\n",
      "2014-12-08 00:00:00, (1.0, 1.5): plus => 0.7737068965517241, minus => 0.22629310344827586\n",
      "2014-12-08 00:00:00, (1.5, 2.0): plus => 0.8004694835680751, minus => 0.19953051643192488\n",
      "2014-12-08 00:00:00, (2.0, 99.0): plus => 0.8302354399008675, minus => 0.1697645600991326\n",
      "2015-01-17 00:00:00, (-99.0, 99.0): plus => 0.7550274223034735, minus => 0.2449725776965265\n",
      "2015-01-17 00:00:00, (-99.0, -2.0): plus => 0.7083333333333334, minus => 0.2916666666666667\n",
      "2015-01-17 00:00:00, (-2.0, -1.5): plus => 0.7021276595744681, minus => 0.2978723404255319\n",
      "2015-01-17 00:00:00, (-1.5, -1.0): plus => 0.7289377289377289, minus => 0.27106227106227104\n",
      "2015-01-17 00:00:00, (-1.0, -0.5): plus => 0.7641196013289037, minus => 0.23588039867109634\n",
      "2015-01-17 00:00:00, (-0.5, 0): plus => 0.7764350453172205, minus => 0.22356495468277945\n",
      "2015-01-17 00:00:00, (0, 0.5): plus => 0.7880299251870324, minus => 0.2119700748129676\n",
      "2015-01-17 00:00:00, (0.5, 1.0): plus => 0.7618069815195072, minus => 0.23819301848049282\n",
      "2015-01-17 00:00:00, (1.0, 1.5): plus => 0.7907949790794979, minus => 0.20920502092050208\n",
      "2015-01-17 00:00:00, (1.5, 2.0): plus => 0.754054054054054, minus => 0.24594594594594596\n",
      "2015-01-17 00:00:00, (2.0, 99.0): plus => 0.6969026548672567, minus => 0.3030973451327434\n"
     ]
    },
    {
     "name": "stderr",
     "output_type": "stream",
     "text": [
      "<ipython-input-15-f02c003211c5>:6: RankWarning: Polyfit may be poorly conditioned\n",
      "  check_df = check(code_list, check_datetime)\n",
      "<ipython-input-15-f02c003211c5>:6: RankWarning: Polyfit may be poorly conditioned\n",
      "  check_df = check(code_list, check_datetime)\n"
     ]
    },
    {
     "name": "stdout",
     "output_type": "stream",
     "text": [
      "2015-01-24 00:00:00, (-99.0, 99.0): plus => 0.7450502589095339, minus => 0.25494974109046603\n",
      "2015-01-24 00:00:00, (-99.0, -2.0): plus => 0.6470588235294118, minus => 0.35294117647058826\n",
      "2015-01-24 00:00:00, (-2.0, -1.5): plus => 0.64, minus => 0.36\n",
      "2015-01-24 00:00:00, (-1.5, -1.0): plus => 0.7380952380952381, minus => 0.2619047619047619\n"
     ]
    },
    {
     "name": "stderr",
     "output_type": "stream",
     "text": [
      "<ipython-input-15-f02c003211c5>:6: RankWarning: Polyfit may be poorly conditioned\n",
      "  check_df = check(code_list, check_datetime)\n",
      "<ipython-input-15-f02c003211c5>:6: RankWarning: Polyfit may be poorly conditioned\n",
      "  check_df = check(code_list, check_datetime)\n"
     ]
    },
    {
     "name": "stdout",
     "output_type": "stream",
     "text": [
      "2015-01-24 00:00:00, (-1.0, -0.5): plus => 0.6996336996336996, minus => 0.30036630036630035\n",
      "2015-01-24 00:00:00, (-0.5, 0): plus => 0.7609427609427609, minus => 0.23905723905723905\n",
      "2015-01-24 00:00:00, (0, 0.5): plus => 0.7707182320441989, minus => 0.2292817679558011\n",
      "2015-01-24 00:00:00, (0.5, 1.0): plus => 0.7516059957173448, minus => 0.24839400428265523\n",
      "2015-01-24 00:00:00, (1.0, 1.5): plus => 0.7709163346613546, minus => 0.2290836653386454\n",
      "2015-01-24 00:00:00, (1.5, 2.0): plus => 0.7865168539325843, minus => 0.21348314606741572\n",
      "2015-01-24 00:00:00, (2.0, 99.0): plus => 0.7078039927404719, minus => 0.29219600725952816\n",
      "2015-03-07 00:00:00, (-99.0, 99.0): plus => 0.6116681859617138, minus => 0.38833181403828626\n",
      "2015-03-07 00:00:00, (-99.0, -2.0): plus => 0.21428571428571427, minus => 0.7857142857142857\n",
      "2015-03-07 00:00:00, (-2.0, -1.5): plus => 0.49019607843137253, minus => 0.5098039215686274\n",
      "2015-03-07 00:00:00, (-1.5, -1.0): plus => 0.4492753623188406, minus => 0.5507246376811594\n",
      "2015-03-07 00:00:00, (-1.0, -0.5): plus => 0.5432692307692307, minus => 0.4567307692307692\n",
      "2015-03-07 00:00:00, (-0.5, 0): plus => 0.5603448275862069, minus => 0.4396551724137931\n",
      "2015-03-07 00:00:00, (0, 0.5): plus => 0.5435435435435435, minus => 0.45645645645645644\n",
      "2015-03-07 00:00:00, (0.5, 1.0): plus => 0.5899772209567198, minus => 0.41002277904328016\n",
      "2015-03-07 00:00:00, (1.0, 1.5): plus => 0.6361829025844931, minus => 0.36381709741550694\n",
      "2015-03-07 00:00:00, (1.5, 2.0): plus => 0.626746506986028, minus => 0.37325349301397204\n",
      "2015-03-07 00:00:00, (2.0, 99.0): plus => 0.694954128440367, minus => 0.30504587155963303\n",
      "2015-04-03 00:00:00, (-99.0, 99.0): plus => 0.4474872103520915, minus => 0.5525127896479085\n",
      "2015-04-03 00:00:00, (-99.0, -2.0): plus => 0.2727272727272727, minus => 0.7272727272727273\n",
      "2015-04-03 00:00:00, (-2.0, -1.5): plus => 0.17777777777777778, minus => 0.8222222222222222\n",
      "2015-04-03 00:00:00, (-1.5, -1.0): plus => 0.32075471698113206, minus => 0.6792452830188679\n",
      "2015-04-03 00:00:00, (-1.0, -0.5): plus => 0.3392070484581498, minus => 0.6607929515418502\n",
      "2015-04-03 00:00:00, (-0.5, 0): plus => 0.3614864864864865, minus => 0.6385135135135135\n",
      "2015-04-03 00:00:00, (0, 0.5): plus => 0.41329479768786126, minus => 0.5867052023121387\n",
      "2015-04-03 00:00:00, (0.5, 1.0): plus => 0.4849699398797595, minus => 0.5150300601202404\n",
      "2015-04-03 00:00:00, (1.0, 1.5): plus => 0.4567062818336163, minus => 0.5432937181663837\n",
      "2015-04-03 00:00:00, (1.5, 2.0): plus => 0.46421663442940037, minus => 0.5357833655705996\n",
      "2015-04-03 00:00:00, (2.0, 99.0): plus => 0.5473186119873817, minus => 0.4526813880126183\n",
      "2015-05-02 00:00:00, (-99.0, 99.0): plus => 0.2934652278177458, minus => 0.7065347721822542\n",
      "2015-05-02 00:00:00, (-99.0, -2.0): plus => 0.2222222222222222, minus => 0.7777777777777778\n",
      "2015-05-02 00:00:00, (-2.0, -1.5): plus => 0.2653061224489796, minus => 0.7346938775510204\n",
      "2015-05-02 00:00:00, (-1.5, -1.0): plus => 0.20422535211267606, minus => 0.795774647887324\n",
      "2015-05-02 00:00:00, (-1.0, -0.5): plus => 0.2, minus => 0.8\n",
      "2015-05-02 00:00:00, (-0.5, 0): plus => 0.24675324675324675, minus => 0.7532467532467533\n",
      "2015-05-02 00:00:00, (0, 0.5): plus => 0.2562814070351759, minus => 0.7437185929648241\n",
      "2015-05-02 00:00:00, (0.5, 1.0): plus => 0.28422876949740034, minus => 0.7157712305025996\n",
      "2015-05-02 00:00:00, (1.0, 1.5): plus => 0.3277545327754533, minus => 0.6722454672245467\n",
      "2015-05-02 00:00:00, (1.5, 2.0): plus => 0.35860655737704916, minus => 0.6413934426229508\n",
      "2015-05-02 00:00:00, (2.0, 99.0): plus => 0.33587786259541985, minus => 0.6641221374045801\n",
      "2015-06-05 00:00:00, (-99.0, 99.0): plus => 0.23111510791366907, minus => 0.7688848920863309\n",
      "2015-06-05 00:00:00, (-99.0, -2.0): plus => 0.1111111111111111, minus => 0.8888888888888888\n",
      "2015-06-05 00:00:00, (-2.0, -1.5): plus => 0.21951219512195122, minus => 0.7804878048780488\n",
      "2015-06-05 00:00:00, (-1.5, -1.0): plus => 0.20634920634920634, minus => 0.7936507936507936\n",
      "2015-06-05 00:00:00, (-1.0, -0.5): plus => 0.15450643776824036, minus => 0.8454935622317596\n",
      "2015-06-05 00:00:00, (-0.5, 0): plus => 0.1774193548387097, minus => 0.8225806451612904\n",
      "2015-06-05 00:00:00, (0, 0.5): plus => 0.22905027932960895, minus => 0.770949720670391\n",
      "2015-06-05 00:00:00, (0.5, 1.0): plus => 0.18706697459584296, minus => 0.812933025404157\n",
      "2015-06-05 00:00:00, (1.0, 1.5): plus => 0.2440273037542662, minus => 0.7559726962457338\n",
      "2015-06-05 00:00:00, (1.5, 2.0): plus => 0.2586805555555556, minus => 0.7413194444444444\n",
      "2015-06-05 00:00:00, (2.0, 99.0): plus => 0.27548209366391185, minus => 0.7245179063360881\n",
      "2015-07-04 00:00:00, (-99.0, 99.0): plus => 0.26851851851851855, minus => 0.7314814814814815\n",
      "2015-07-04 00:00:00, (-99.0, -2.0): plus => 0.15, minus => 0.85\n",
      "2015-07-04 00:00:00, (-2.0, -1.5): plus => 0.16981132075471697, minus => 0.8301886792452831\n",
      "2015-07-04 00:00:00, (-1.5, -1.0): plus => 0.21666666666666667, minus => 0.7833333333333333\n",
      "2015-07-04 00:00:00, (-1.0, -0.5): plus => 0.21708185053380782, minus => 0.7829181494661922\n",
      "2015-07-04 00:00:00, (-0.5, 0): plus => 0.26022304832713755, minus => 0.7397769516728625\n",
      "2015-07-04 00:00:00, (0, 0.5): plus => 0.2572944297082228, minus => 0.7427055702917772\n",
      "2015-07-04 00:00:00, (0.5, 1.0): plus => 0.25508317929759705, minus => 0.744916820702403\n",
      "2015-07-04 00:00:00, (1.0, 1.5): plus => 0.2720970537261698, minus => 0.7279029462738301\n",
      "2015-07-04 00:00:00, (1.5, 2.0): plus => 0.2665289256198347, minus => 0.7334710743801653\n",
      "2015-07-04 00:00:00, (2.0, 99.0): plus => 0.3462897526501767, minus => 0.6537102473498233\n",
      "2015-08-01 00:00:00, (-99.0, 99.0): plus => 0.31138259833134685, minus => 0.6886174016686532\n",
      "2015-08-01 00:00:00, (-99.0, -2.0): plus => 0.11627906976744186, minus => 0.8837209302325582\n",
      "2015-08-01 00:00:00, (-2.0, -1.5): plus => 0.1941747572815534, minus => 0.8058252427184466\n",
      "2015-08-01 00:00:00, (-1.5, -1.0): plus => 0.3047619047619048, minus => 0.6952380952380952\n",
      "2015-08-01 00:00:00, (-1.0, -0.5): plus => 0.30344827586206896, minus => 0.696551724137931\n",
      "2015-08-01 00:00:00, (-0.5, 0): plus => 0.28173374613003094, minus => 0.718266253869969\n",
      "2015-08-01 00:00:00, (0, 0.5): plus => 0.29238329238329236, minus => 0.7076167076167076\n",
      "2015-08-01 00:00:00, (0.5, 1.0): plus => 0.3231357552581262, minus => 0.6768642447418738\n",
      "2015-08-01 00:00:00, (1.0, 1.5): plus => 0.29454545454545455, minus => 0.7054545454545454\n",
      "2015-08-01 00:00:00, (1.5, 2.0): plus => 0.3117782909930716, minus => 0.6882217090069284\n",
      "2015-08-01 00:00:00, (2.0, 99.0): plus => 0.4050632911392405, minus => 0.5949367088607594\n",
      "2015-08-19 00:00:00, (-99.0, 99.0): plus => 0.3289669544507294, minus => 0.6710330455492706\n",
      "2015-08-19 00:00:00, (-99.0, -2.0): plus => 0.21296296296296297, minus => 0.7870370370370371\n",
      "2015-08-19 00:00:00, (-2.0, -1.5): plus => 0.2468354430379747, minus => 0.7531645569620253\n",
      "2015-08-19 00:00:00, (-1.5, -1.0): plus => 0.3020408163265306, minus => 0.6979591836734694\n",
      "2015-08-19 00:00:00, (-1.0, -0.5): plus => 0.33112582781456956, minus => 0.6688741721854304\n",
      "2015-08-19 00:00:00, (-0.5, 0): plus => 0.266304347826087, minus => 0.7336956521739131\n",
      "2015-08-19 00:00:00, (0, 0.5): plus => 0.33176470588235296, minus => 0.668235294117647\n",
      "2015-08-19 00:00:00, (0.5, 1.0): plus => 0.3351749539594843, minus => 0.6648250460405156\n",
      "2015-08-19 00:00:00, (1.0, 1.5): plus => 0.3378119001919386, minus => 0.6621880998080614\n",
      "2015-08-19 00:00:00, (1.5, 2.0): plus => 0.36990595611285265, minus => 0.6300940438871473\n",
      "2015-08-19 00:00:00, (2.0, 99.0): plus => 0.41621621621621624, minus => 0.5837837837837838\n",
      "2015-10-04 00:00:00, (-99.0, 99.0): plus => 0.26115214180206797, minus => 0.7388478581979321\n",
      "2015-10-04 00:00:00, (-99.0, -2.0): plus => 0.18266978922716628, minus => 0.8173302107728337\n",
      "2015-10-04 00:00:00, (-2.0, -1.5): plus => 0.2064343163538874, minus => 0.7935656836461126\n",
      "2015-10-04 00:00:00, (-1.5, -1.0): plus => 0.2526997840172786, minus => 0.7473002159827213\n",
      "2015-10-04 00:00:00, (-1.0, -0.5): plus => 0.25338491295938104, minus => 0.746615087040619\n",
      "2015-10-04 00:00:00, (-0.5, 0): plus => 0.2597402597402597, minus => 0.7402597402597403\n",
      "2015-10-04 00:00:00, (0, 0.5): plus => 0.324582338902148, minus => 0.6754176610978521\n",
      "2015-10-04 00:00:00, (0.5, 1.0): plus => 0.2915451895043732, minus => 0.7084548104956269\n",
      "2015-10-04 00:00:00, (1.0, 1.5): plus => 0.31313131313131315, minus => 0.6868686868686869\n",
      "2015-10-04 00:00:00, (1.5, 2.0): plus => 0.36893203883495146, minus => 0.6310679611650486\n",
      "2015-10-04 00:00:00, (2.0, 99.0): plus => 0.3125, minus => 0.6875\n",
      "2015-10-29 00:00:00, (-99.0, 99.0): plus => 0.214075382803298, minus => 0.785924617196702\n",
      "2015-10-29 00:00:00, (-99.0, -2.0): plus => 0.10526315789473684, minus => 0.8947368421052632\n",
      "2015-10-29 00:00:00, (-2.0, -1.5): plus => 0.1695501730103806, minus => 0.8304498269896193\n",
      "2015-10-29 00:00:00, (-1.5, -1.0): plus => 0.19727891156462585, minus => 0.8027210884353742\n",
      "2015-10-29 00:00:00, (-1.0, -0.5): plus => 0.22365988909426987, minus => 0.7763401109057301\n",
      "2015-10-29 00:00:00, (-0.5, 0): plus => 0.19710669077757687, minus => 0.8028933092224232\n",
      "2015-10-29 00:00:00, (0, 0.5): plus => 0.21031746031746032, minus => 0.7896825396825397\n",
      "2015-10-29 00:00:00, (0.5, 1.0): plus => 0.22300469483568075, minus => 0.7769953051643192\n",
      "2015-10-29 00:00:00, (1.0, 1.5): plus => 0.24907063197026022, minus => 0.7509293680297398\n",
      "2015-10-29 00:00:00, (1.5, 2.0): plus => 0.26344086021505375, minus => 0.7365591397849462\n",
      "2015-10-29 00:00:00, (2.0, 99.0): plus => 0.32432432432432434, minus => 0.6756756756756757\n",
      "2015-11-29 00:00:00, (-99.0, 99.0): plus => 0.20922715251248897, minus => 0.790772847487511\n",
      "2015-11-29 00:00:00, (-99.0, -2.0): plus => 0.24489795918367346, minus => 0.7551020408163265\n",
      "2015-11-29 00:00:00, (-2.0, -1.5): plus => 0.14054054054054055, minus => 0.8594594594594595\n",
      "2015-11-29 00:00:00, (-1.5, -1.0): plus => 0.20673076923076922, minus => 0.7932692307692307\n",
      "2015-11-29 00:00:00, (-1.0, -0.5): plus => 0.21212121212121213, minus => 0.7878787878787878\n",
      "2015-11-29 00:00:00, (-0.5, 0): plus => 0.20342612419700215, minus => 0.7965738758029979\n",
      "2015-11-29 00:00:00, (0, 0.5): plus => 0.1831578947368421, minus => 0.8168421052631579\n",
      "2015-11-29 00:00:00, (0.5, 1.0): plus => 0.1726457399103139, minus => 0.827354260089686\n",
      "2015-11-29 00:00:00, (1.0, 1.5): plus => 0.22911051212938005, minus => 0.77088948787062\n",
      "2015-11-29 00:00:00, (1.5, 2.0): plus => 0.25833333333333336, minus => 0.7416666666666667\n",
      "2015-11-29 00:00:00, (2.0, 99.0): plus => 0.30973451327433627, minus => 0.6902654867256637\n",
      "2015-12-31 00:00:00, (-99.0, 99.0): plus => 0.3209696261682243, minus => 0.6790303738317757\n",
      "2015-12-31 00:00:00, (-99.0, -2.0): plus => 0.22772277227722773, minus => 0.7722772277227723\n",
      "2015-12-31 00:00:00, (-2.0, -1.5): plus => 0.3288135593220339, minus => 0.6711864406779661\n",
      "2015-12-31 00:00:00, (-1.5, -1.0): plus => 0.3210332103321033, minus => 0.6789667896678967\n",
      "2015-12-31 00:00:00, (-1.0, -0.5): plus => 0.31835205992509363, minus => 0.6816479400749064\n",
      "2015-12-31 00:00:00, (-0.5, 0): plus => 0.2876712328767123, minus => 0.7123287671232876\n",
      "2015-12-31 00:00:00, (0, 0.5): plus => 0.27294117647058824, minus => 0.7270588235294118\n",
      "2015-12-31 00:00:00, (0.5, 1.0): plus => 0.31197771587743733, minus => 0.6880222841225627\n",
      "2015-12-31 00:00:00, (1.0, 1.5): plus => 0.367003367003367, minus => 0.632996632996633\n",
      "2015-12-31 00:00:00, (1.5, 2.0): plus => 0.3812154696132597, minus => 0.6187845303867403\n",
      "2015-12-31 00:00:00, (2.0, 99.0): plus => 0.4581005586592179, minus => 0.5418994413407822\n"
     ]
    },
    {
     "name": "stderr",
     "output_type": "stream",
     "text": [
      "<ipython-input-15-f02c003211c5>:6: RankWarning: Polyfit may be poorly conditioned\n",
      "  check_df = check(code_list, check_datetime)\n"
     ]
    },
    {
     "name": "stdout",
     "output_type": "stream",
     "text": [
      "2016-02-01 00:00:00, (-99.0, 99.0): plus => 0.3970201577563541, minus => 0.6029798422436459\n",
      "2016-02-01 00:00:00, (-99.0, -2.0): plus => 0.26859504132231404, minus => 0.731404958677686\n"
     ]
    },
    {
     "name": "stderr",
     "output_type": "stream",
     "text": [
      "<ipython-input-15-f02c003211c5>:6: RankWarning: Polyfit may be poorly conditioned\n",
      "  check_df = check(code_list, check_datetime)\n"
     ]
    },
    {
     "name": "stdout",
     "output_type": "stream",
     "text": [
      "2016-02-01 00:00:00, (-2.0, -1.5): plus => 0.38958333333333334, minus => 0.6104166666666667\n",
      "2016-02-01 00:00:00, (-1.5, -1.0): plus => 0.37716763005780346, minus => 0.6228323699421965\n",
      "2016-02-01 00:00:00, (-1.0, -0.5): plus => 0.3770197486535009, minus => 0.6229802513464991\n",
      "2016-02-01 00:00:00, (-0.5, 0): plus => 0.41534391534391535, minus => 0.5846560846560847\n",
      "2016-02-01 00:00:00, (0, 0.5): plus => 0.4233128834355828, minus => 0.5766871165644172\n",
      "2016-02-01 00:00:00, (0.5, 1.0): plus => 0.43866171003717475, minus => 0.5613382899628253\n",
      "2016-02-01 00:00:00, (1.0, 1.5): plus => 0.41624365482233505, minus => 0.583756345177665\n",
      "2016-02-01 00:00:00, (1.5, 2.0): plus => 0.4491525423728814, minus => 0.5508474576271186\n",
      "2016-02-01 00:00:00, (2.0, 99.0): plus => 0.5365853658536586, minus => 0.4634146341463415\n"
     ]
    },
    {
     "name": "stderr",
     "output_type": "stream",
     "text": [
      "<ipython-input-15-f02c003211c5>:6: RankWarning: Polyfit may be poorly conditioned\n",
      "  check_df = check(code_list, check_datetime)\n"
     ]
    },
    {
     "name": "stdout",
     "output_type": "stream",
     "text": [
      "2016-02-13 00:00:00, (-99.0, 99.0): plus => 0.41162722757814785, minus => 0.5883727724218522\n",
      "2016-02-13 00:00:00, (-99.0, -2.0): plus => 0.3567921440261866, minus => 0.6432078559738135\n",
      "2016-02-13 00:00:00, (-2.0, -1.5): plus => 0.47591522157996147, minus => 0.5240847784200385\n"
     ]
    },
    {
     "name": "stderr",
     "output_type": "stream",
     "text": [
      "<ipython-input-15-f02c003211c5>:6: RankWarning: Polyfit may be poorly conditioned\n",
      "  check_df = check(code_list, check_datetime)\n"
     ]
    },
    {
     "name": "stdout",
     "output_type": "stream",
     "text": [
      "2016-02-13 00:00:00, (-1.5, -1.0): plus => 0.44, minus => 0.56\n",
      "2016-02-13 00:00:00, (-1.0, -0.5): plus => 0.5443548387096774, minus => 0.45564516129032256\n",
      "2016-02-13 00:00:00, (-0.5, 0): plus => 0.4797687861271676, minus => 0.5202312138728323\n",
      "2016-02-13 00:00:00, (0, 0.5): plus => 0.5462184873949579, minus => 0.453781512605042\n",
      "2016-02-13 00:00:00, (0.5, 1.0): plus => 0.37662337662337664, minus => 0.6233766233766234\n",
      "2016-02-13 00:00:00, (1.0, 1.5): plus => 0.45652173913043476, minus => 0.5434782608695652\n",
      "2016-02-13 00:00:00, (1.5, 2.0): plus => 0.5, minus => 0.5\n",
      "2016-02-13 00:00:00, (2.0, 99.0): plus => 0.25, minus => 0.75\n",
      "2016-03-17 00:00:00, (-99.0, 99.0): plus => 0.3722351571594878, minus => 0.6277648428405123\n",
      "2016-03-17 00:00:00, (-99.0, -2.0): plus => 0.29545454545454547, minus => 0.7045454545454546\n",
      "2016-03-17 00:00:00, (-2.0, -1.5): plus => 0.33727810650887574, minus => 0.6627218934911243\n",
      "2016-03-17 00:00:00, (-1.5, -1.0): plus => 0.3760186263096624, minus => 0.6239813736903376\n",
      "2016-03-17 00:00:00, (-1.0, -0.5): plus => 0.3665158371040724, minus => 0.6334841628959276\n",
      "2016-03-17 00:00:00, (-0.5, 0): plus => 0.4076923076923077, minus => 0.5923076923076923\n",
      "2016-03-17 00:00:00, (0, 0.5): plus => 0.40942028985507245, minus => 0.5905797101449275\n",
      "2016-03-17 00:00:00, (0.5, 1.0): plus => 0.4036697247706422, minus => 0.5963302752293578\n",
      "2016-03-17 00:00:00, (1.0, 1.5): plus => 0.39490445859872614, minus => 0.6050955414012739\n",
      "2016-03-17 00:00:00, (1.5, 2.0): plus => 0.3425925925925926, minus => 0.6574074074074074\n",
      "2016-03-17 00:00:00, (2.0, 99.0): plus => 0.3492063492063492, minus => 0.6507936507936508\n",
      "2016-05-01 00:00:00, (-99.0, 99.0): plus => 0.429438982070561, minus => 0.570561017929439\n",
      "2016-05-01 00:00:00, (-99.0, -2.0): plus => 0.2564102564102564, minus => 0.7435897435897436\n",
      "2016-05-01 00:00:00, (-2.0, -1.5): plus => 0.46464646464646464, minus => 0.5353535353535354\n",
      "2016-05-01 00:00:00, (-1.5, -1.0): plus => 0.4522096608427544, minus => 0.5477903391572456\n",
      "2016-05-01 00:00:00, (-1.0, -0.5): plus => 0.45518207282913165, minus => 0.5448179271708683\n",
      "2016-05-01 00:00:00, (-0.5, 0): plus => 0.4468599033816425, minus => 0.5531400966183575\n",
      "2016-05-01 00:00:00, (0, 0.5): plus => 0.3992932862190813, minus => 0.6007067137809188\n",
      "2016-05-01 00:00:00, (0.5, 1.0): plus => 0.32894736842105265, minus => 0.6710526315789473\n",
      "2016-05-01 00:00:00, (1.0, 1.5): plus => 0.37735849056603776, minus => 0.6226415094339622\n",
      "2016-05-01 00:00:00, (1.5, 2.0): plus => 0.4020618556701031, minus => 0.5979381443298969\n",
      "2016-05-01 00:00:00, (2.0, 99.0): plus => 0.3793103448275862, minus => 0.6206896551724138\n",
      "2016-05-16 00:00:00, (-99.0, 99.0): plus => 0.48958935801041065, minus => 0.5104106419895894\n",
      "2016-05-16 00:00:00, (-99.0, -2.0): plus => 0.3698630136986301, minus => 0.6301369863013698\n",
      "2016-05-16 00:00:00, (-2.0, -1.5): plus => 0.5274949083503055, minus => 0.4725050916496945\n",
      "2016-05-16 00:00:00, (-1.5, -1.0): plus => 0.5486111111111112, minus => 0.4513888888888889\n",
      "2016-05-16 00:00:00, (-1.0, -0.5): plus => 0.5107361963190185, minus => 0.4892638036809816\n",
      "2016-05-16 00:00:00, (-0.5, 0): plus => 0.4919786096256685, minus => 0.5080213903743316\n",
      "2016-05-16 00:00:00, (0, 0.5): plus => 0.39805825242718446, minus => 0.6019417475728155\n",
      "2016-05-16 00:00:00, (0.5, 1.0): plus => 0.47317073170731705, minus => 0.526829268292683\n",
      "2016-05-16 00:00:00, (1.0, 1.5): plus => 0.36464088397790057, minus => 0.6353591160220995\n",
      "2016-05-16 00:00:00, (1.5, 2.0): plus => 0.3274336283185841, minus => 0.672566371681416\n",
      "2016-05-16 00:00:00, (2.0, 99.0): plus => 0.5365853658536586, minus => 0.4634146341463415\n",
      "2016-06-26 00:00:00, (-99.0, 99.0): plus => 0.7201266916210769, minus => 0.2798733083789231\n",
      "2016-06-26 00:00:00, (-99.0, -2.0): plus => 0.7687687687687688, minus => 0.23123123123123124\n",
      "2016-06-26 00:00:00, (-2.0, -1.5): plus => 0.8201603665521191, minus => 0.17983963344788087\n",
      "2016-06-26 00:00:00, (-1.5, -1.0): plus => 0.7677419354838709, minus => 0.23225806451612904\n",
      "2016-06-26 00:00:00, (-1.0, -0.5): plus => 0.6736292428198434, minus => 0.3263707571801567\n",
      "2016-06-26 00:00:00, (-0.5, 0): plus => 0.5714285714285714, minus => 0.42857142857142855\n",
      "2016-06-26 00:00:00, (0, 0.5): plus => 0.583756345177665, minus => 0.41624365482233505\n",
      "2016-06-26 00:00:00, (0.5, 1.0): plus => 0.5, minus => 0.5\n",
      "2016-06-26 00:00:00, (1.0, 1.5): plus => 0.5833333333333334, minus => 0.4166666666666667\n",
      "2016-06-26 00:00:00, (1.5, 2.0): plus => 0.47619047619047616, minus => 0.5238095238095238\n",
      "2016-06-26 00:00:00, (2.0, 99.0): plus => 0.36, minus => 0.64\n",
      "2016-07-23 00:00:00, (-99.0, 99.0): plus => 0.8075265728239012, minus => 0.19247342717609883\n",
      "2016-07-23 00:00:00, (-99.0, -2.0): plus => 0.7346938775510204, minus => 0.2653061224489796\n",
      "2016-07-23 00:00:00, (-2.0, -1.5): plus => 0.8536585365853658, minus => 0.14634146341463414\n",
      "2016-07-23 00:00:00, (-1.5, -1.0): plus => 0.869182389937107, minus => 0.13081761006289308\n",
      "2016-07-23 00:00:00, (-1.0, -0.5): plus => 0.8717026378896883, minus => 0.12829736211031176\n",
      "2016-07-23 00:00:00, (-0.5, 0): plus => 0.806060606060606, minus => 0.19393939393939394\n",
      "2016-07-23 00:00:00, (0, 0.5): plus => 0.745398773006135, minus => 0.254601226993865\n",
      "2016-07-23 00:00:00, (0.5, 1.0): plus => 0.6856060606060606, minus => 0.3143939393939394\n",
      "2016-07-23 00:00:00, (1.0, 1.5): plus => 0.673469387755102, minus => 0.32653061224489793\n",
      "2016-07-23 00:00:00, (1.5, 2.0): plus => 0.6857142857142857, minus => 0.3142857142857143\n",
      "2016-07-23 00:00:00, (2.0, 99.0): plus => 0.7058823529411765, minus => 0.29411764705882354\n",
      "2016-09-05 00:00:00, (-99.0, 99.0): plus => 0.8724562912009172, minus => 0.12754370879908283\n",
      "2016-09-05 00:00:00, (-99.0, -2.0): plus => 0.8947368421052632, minus => 0.10526315789473684\n",
      "2016-09-05 00:00:00, (-2.0, -1.5): plus => 0.8723404255319149, minus => 0.1276595744680851\n",
      "2016-09-05 00:00:00, (-1.5, -1.0): plus => 0.8945868945868946, minus => 0.10541310541310542\n",
      "2016-09-05 00:00:00, (-1.0, -0.5): plus => 0.9042944785276074, minus => 0.09570552147239264\n",
      "2016-09-05 00:00:00, (-0.5, 0): plus => 0.8963730569948186, minus => 0.10362694300518134\n",
      "2016-09-05 00:00:00, (0, 0.5): plus => 0.8702830188679245, minus => 0.12971698113207547\n",
      "2016-09-05 00:00:00, (0.5, 1.0): plus => 0.8027681660899654, minus => 0.1972318339100346\n",
      "2016-09-05 00:00:00, (1.0, 1.5): plus => 0.7941176470588235, minus => 0.20588235294117646\n",
      "2016-09-05 00:00:00, (1.5, 2.0): plus => 0.83, minus => 0.17\n",
      "2016-09-05 00:00:00, (2.0, 99.0): plus => 0.7557251908396947, minus => 0.24427480916030533\n",
      "2016-09-23 00:00:00, (-99.0, 99.0): plus => 0.8766103635843114, minus => 0.12338963641568852\n",
      "2016-09-23 00:00:00, (-99.0, -2.0): plus => 0.8636363636363636, minus => 0.13636363636363635\n",
      "2016-09-23 00:00:00, (-2.0, -1.5): plus => 0.8518518518518519, minus => 0.14814814814814814\n",
      "2016-09-23 00:00:00, (-1.5, -1.0): plus => 0.9294117647058824, minus => 0.07058823529411765\n",
      "2016-09-23 00:00:00, (-1.0, -0.5): plus => 0.8908872901678657, minus => 0.1091127098321343\n",
      "2016-09-23 00:00:00, (-0.5, 0): plus => 0.9067930489731437, minus => 0.09320695102685624\n",
      "2016-09-23 00:00:00, (0, 0.5): plus => 0.8815165876777251, minus => 0.11848341232227488\n",
      "2016-09-23 00:00:00, (0.5, 1.0): plus => 0.8463855421686747, minus => 0.1536144578313253\n",
      "2016-09-23 00:00:00, (1.0, 1.5): plus => 0.8037735849056604, minus => 0.19622641509433963\n",
      "2016-09-23 00:00:00, (1.5, 2.0): plus => 0.8141025641025641, minus => 0.1858974358974359\n",
      "2016-09-23 00:00:00, (2.0, 99.0): plus => 0.782608695652174, minus => 0.21739130434782608\n",
      "2016-10-28 00:00:00, (-99.0, 99.0): plus => 0.8380382092956943, minus => 0.16196179070430566\n",
      "2016-10-28 00:00:00, (-99.0, -2.0): plus => 0.6875, minus => 0.3125\n",
      "2016-10-28 00:00:00, (-2.0, -1.5): plus => 0.6166666666666667, minus => 0.38333333333333336\n",
      "2016-10-28 00:00:00, (-1.5, -1.0): plus => 0.7973568281938326, minus => 0.2026431718061674\n",
      "2016-10-28 00:00:00, (-1.0, -0.5): plus => 0.8712522045855379, minus => 0.12874779541446207\n",
      "2016-10-28 00:00:00, (-0.5, 0): plus => 0.8496835443037974, minus => 0.15031645569620253\n",
      "2016-10-28 00:00:00, (0, 0.5): plus => 0.8649122807017544, minus => 0.13508771929824562\n",
      "2016-10-28 00:00:00, (0.5, 1.0): plus => 0.8399122807017544, minus => 0.1600877192982456\n",
      "2016-10-28 00:00:00, (1.0, 1.5): plus => 0.8166666666666667, minus => 0.18333333333333332\n",
      "2016-10-28 00:00:00, (1.5, 2.0): plus => 0.818815331010453, minus => 0.18118466898954705\n",
      "2016-10-28 00:00:00, (2.0, 99.0): plus => 0.8253012048192772, minus => 0.1746987951807229\n",
      "2016-12-04 00:00:00, (-99.0, 99.0): plus => 0.7157475838544628, minus => 0.28425241614553726\n",
      "2016-12-04 00:00:00, (-99.0, -2.0): plus => 0.20689655172413793, minus => 0.7931034482758621\n",
      "2016-12-04 00:00:00, (-2.0, -1.5): plus => 0.7142857142857143, minus => 0.2857142857142857\n",
      "2016-12-04 00:00:00, (-1.5, -1.0): plus => 0.6818181818181818, minus => 0.3181818181818182\n",
      "2016-12-04 00:00:00, (-1.0, -0.5): plus => 0.6458923512747875, minus => 0.35410764872521244\n",
      "2016-12-04 00:00:00, (-0.5, 0): plus => 0.7133333333333334, minus => 0.2866666666666667\n",
      "2016-12-04 00:00:00, (0, 0.5): plus => 0.7361419068736141, minus => 0.2638580931263858\n",
      "2016-12-04 00:00:00, (0.5, 1.0): plus => 0.7099391480730223, minus => 0.29006085192697767\n",
      "2016-12-04 00:00:00, (1.0, 1.5): plus => 0.7443762781186094, minus => 0.2556237218813906\n",
      "2016-12-04 00:00:00, (1.5, 2.0): plus => 0.7213114754098361, minus => 0.2786885245901639\n",
      "2016-12-04 00:00:00, (2.0, 99.0): plus => 0.7549342105263158, minus => 0.2450657894736842\n",
      "2016-12-28 00:00:00, (-99.0, 99.0): plus => 0.6527030851967167, minus => 0.34729691480328334\n",
      "2016-12-28 00:00:00, (-99.0, -2.0): plus => 0.19230769230769232, minus => 0.8076923076923077\n",
      "2016-12-28 00:00:00, (-2.0, -1.5): plus => 0.7142857142857143, minus => 0.2857142857142857\n",
      "2016-12-28 00:00:00, (-1.5, -1.0): plus => 0.6494845360824743, minus => 0.35051546391752575\n",
      "2016-12-28 00:00:00, (-1.0, -0.5): plus => 0.570281124497992, minus => 0.42971887550200805\n",
      "2016-12-28 00:00:00, (-0.5, 0): plus => 0.6238532110091743, minus => 0.3761467889908257\n",
      "2016-12-28 00:00:00, (0, 0.5): plus => 0.6595744680851063, minus => 0.3404255319148936\n",
      "2016-12-28 00:00:00, (0.5, 1.0): plus => 0.6277533039647577, minus => 0.3722466960352423\n",
      "2016-12-28 00:00:00, (1.0, 1.5): plus => 0.6580406654343808, minus => 0.3419593345656192\n",
      "2016-12-28 00:00:00, (1.5, 2.0): plus => 0.6440071556350626, minus => 0.3559928443649374\n",
      "2016-12-28 00:00:00, (2.0, 99.0): plus => 0.7112359550561798, minus => 0.28876404494382024\n",
      "2017-01-06 00:00:00, (-99.0, 99.0): plus => 0.6496040723981901, minus => 0.35039592760180993\n",
      "2017-01-06 00:00:00, (-99.0, -2.0): plus => 0.05263157894736842, minus => 0.9473684210526315\n",
      "2017-01-06 00:00:00, (-2.0, -1.5): plus => 0.625, minus => 0.375\n",
      "2017-01-06 00:00:00, (-1.5, -1.0): plus => 0.6041666666666666, minus => 0.3958333333333333\n",
      "2017-01-06 00:00:00, (-1.0, -0.5): plus => 0.5666666666666667, minus => 0.43333333333333335\n",
      "2017-01-06 00:00:00, (-0.5, 0): plus => 0.575091575091575, minus => 0.4249084249084249\n",
      "2017-01-06 00:00:00, (0, 0.5): plus => 0.6555891238670695, minus => 0.34441087613293053\n",
      "2017-01-06 00:00:00, (0.5, 1.0): plus => 0.6438356164383562, minus => 0.3561643835616438\n",
      "2017-01-06 00:00:00, (1.0, 1.5): plus => 0.6274900398406374, minus => 0.37250996015936255\n",
      "2017-01-06 00:00:00, (1.5, 2.0): plus => 0.634185303514377, minus => 0.365814696485623\n",
      "2017-01-06 00:00:00, (2.0, 99.0): plus => 0.71350861287398, minus => 0.28649138712601996\n",
      "2017-02-22 00:00:00, (-99.0, 99.0): plus => 0.6729737362327026, minus => 0.3270262637672974\n",
      "2017-02-22 00:00:00, (-99.0, -2.0): plus => 0.0, minus => 1.0\n",
      "2017-02-22 00:00:00, (-2.0, -1.5): plus => 0.19444444444444445, minus => 0.8055555555555556\n",
      "2017-02-22 00:00:00, (-1.5, -1.0): plus => 0.5189873417721519, minus => 0.4810126582278481\n",
      "2017-02-22 00:00:00, (-1.0, -0.5): plus => 0.5989847715736041, minus => 0.4010152284263959\n",
      "2017-02-22 00:00:00, (-0.5, 0): plus => 0.6437246963562753, minus => 0.3562753036437247\n",
      "2017-02-22 00:00:00, (0, 0.5): plus => 0.6903914590747331, minus => 0.3096085409252669\n",
      "2017-02-22 00:00:00, (0.5, 1.0): plus => 0.7037037037037037, minus => 0.2962962962962963\n",
      "2017-02-22 00:00:00, (1.0, 1.5): plus => 0.6794019933554817, minus => 0.32059800664451826\n",
      "2017-02-22 00:00:00, (1.5, 2.0): plus => 0.6810810810810811, minus => 0.31891891891891894\n",
      "2017-02-22 00:00:00, (2.0, 99.0): plus => 0.7054582904222451, minus => 0.2945417095777549\n",
      "2017-04-03 00:00:00, (-99.0, 99.0): plus => 0.7304031354983203, minus => 0.26959686450167974\n",
      "2017-04-03 00:00:00, (-99.0, -2.0): plus => 0.6153846153846154, minus => 0.38461538461538464\n",
      "2017-04-03 00:00:00, (-2.0, -1.5): plus => 0.4897959183673469, minus => 0.5102040816326531\n",
      "2017-04-03 00:00:00, (-1.5, -1.0): plus => 0.49645390070921985, minus => 0.5035460992907801\n",
      "2017-04-03 00:00:00, (-1.0, -0.5): plus => 0.5862068965517241, minus => 0.41379310344827586\n",
      "2017-04-03 00:00:00, (-0.5, 0): plus => 0.6806451612903226, minus => 0.3193548387096774\n",
      "2017-04-03 00:00:00, (0, 0.5): plus => 0.7240506329113924, minus => 0.2759493670886076\n",
      "2017-04-03 00:00:00, (0.5, 1.0): plus => 0.7308270676691729, minus => 0.26917293233082706\n",
      "2017-04-03 00:00:00, (1.0, 1.5): plus => 0.7995255041518387, minus => 0.20047449584816132\n",
      "2017-04-03 00:00:00, (1.5, 2.0): plus => 0.7640232108317214, minus => 0.23597678916827852\n",
      "2017-04-03 00:00:00, (2.0, 99.0): plus => 0.7837837837837838, minus => 0.21621621621621623\n",
      "2017-04-18 00:00:00, (-99.0, 99.0): plus => 0.7516083916083917, minus => 0.2483916083916084\n",
      "2017-04-18 00:00:00, (-99.0, -2.0): plus => 0.627906976744186, minus => 0.37209302325581395\n",
      "2017-04-18 00:00:00, (-2.0, -1.5): plus => 0.5638297872340425, minus => 0.43617021276595747\n",
      "2017-04-18 00:00:00, (-1.5, -1.0): plus => 0.6045454545454545, minus => 0.39545454545454545\n",
      "2017-04-18 00:00:00, (-1.0, -0.5): plus => 0.6677524429967426, minus => 0.3322475570032573\n",
      "2017-04-18 00:00:00, (-0.5, 0): plus => 0.7511520737327189, minus => 0.2488479262672811\n",
      "2017-04-18 00:00:00, (0, 0.5): plus => 0.7771345875542692, minus => 0.22286541244573083\n",
      "2017-04-18 00:00:00, (0.5, 1.0): plus => 0.7901785714285714, minus => 0.20982142857142858\n",
      "2017-04-18 00:00:00, (1.0, 1.5): plus => 0.793233082706767, minus => 0.20676691729323307\n",
      "2017-04-18 00:00:00, (1.5, 2.0): plus => 0.7605633802816901, minus => 0.23943661971830985\n",
      "2017-04-18 00:00:00, (2.0, 99.0): plus => 0.7862068965517242, minus => 0.21379310344827587\n",
      "2017-05-10 00:00:00, (-99.0, 99.0): plus => 0.7598546267822197, minus => 0.24014537321778026\n",
      "2017-05-10 00:00:00, (-99.0, -2.0): plus => 0.0, minus => 1.0\n",
      "2017-05-10 00:00:00, (-2.0, -1.5): plus => 0.4666666666666667, minus => 0.5333333333333333\n",
      "2017-05-10 00:00:00, (-1.5, -1.0): plus => 0.4830508474576271, minus => 0.5169491525423728\n",
      "2017-05-10 00:00:00, (-1.0, -0.5): plus => 0.5608465608465608, minus => 0.43915343915343913\n",
      "2017-05-10 00:00:00, (-0.5, 0): plus => 0.6386554621848739, minus => 0.36134453781512604\n",
      "2017-05-10 00:00:00, (0, 0.5): plus => 0.7368421052631579, minus => 0.2631578947368421\n",
      "2017-05-10 00:00:00, (0.5, 1.0): plus => 0.7739273927392739, minus => 0.22607260726072606\n",
      "2017-05-10 00:00:00, (1.0, 1.5): plus => 0.7935723114956736, minus => 0.20642768850432633\n",
      "2017-05-10 00:00:00, (1.5, 2.0): plus => 0.8328025477707006, minus => 0.16719745222929935\n",
      "2017-05-10 00:00:00, (2.0, 99.0): plus => 0.8246205733558178, minus => 0.17537942664418213\n",
      "2017-06-06 00:00:00, (-99.0, 99.0): plus => 0.7460184409052808, minus => 0.2539815590947192\n",
      "2017-06-06 00:00:00, (-99.0, -2.0): plus => 0.5, minus => 0.5\n",
      "2017-06-06 00:00:00, (-2.0, -1.5): plus => 0.3958333333333333, minus => 0.6041666666666666\n",
      "2017-06-06 00:00:00, (-1.5, -1.0): plus => 0.4076923076923077, minus => 0.5923076923076923\n",
      "2017-06-06 00:00:00, (-1.0, -0.5): plus => 0.5359116022099447, minus => 0.46408839779005523\n",
      "2017-06-06 00:00:00, (-0.5, 0): plus => 0.6813559322033899, minus => 0.31864406779661014\n",
      "2017-06-06 00:00:00, (0, 0.5): plus => 0.7292161520190024, minus => 0.27078384798099764\n",
      "2017-06-06 00:00:00, (0.5, 1.0): plus => 0.7988165680473372, minus => 0.20118343195266272\n",
      "2017-06-06 00:00:00, (1.0, 1.5): plus => 0.837386018237082, minus => 0.16261398176291794\n",
      "2017-06-06 00:00:00, (1.5, 2.0): plus => 0.7920792079207921, minus => 0.2079207920792079\n",
      "2017-06-06 00:00:00, (2.0, 99.0): plus => 0.7587786259541984, minus => 0.24122137404580152\n",
      "2017-07-07 00:00:00, (-99.0, 99.0): plus => 0.7459564974902398, minus => 0.25404350250976016\n",
      "2017-07-07 00:00:00, (-99.0, -2.0): plus => 0.23529411764705882, minus => 0.7647058823529411\n",
      "2017-07-07 00:00:00, (-2.0, -1.5): plus => 0.5757575757575758, minus => 0.42424242424242425\n",
      "2017-07-07 00:00:00, (-1.5, -1.0): plus => 0.375, minus => 0.625\n",
      "2017-07-07 00:00:00, (-1.0, -0.5): plus => 0.5347593582887701, minus => 0.46524064171123\n",
      "2017-07-07 00:00:00, (-0.5, 0): plus => 0.6573705179282868, minus => 0.3426294820717131\n",
      "2017-07-07 00:00:00, (0, 0.5): plus => 0.7391304347826086, minus => 0.2608695652173913\n",
      "2017-07-07 00:00:00, (0.5, 1.0): plus => 0.8029850746268656, minus => 0.19701492537313434\n",
      "2017-07-07 00:00:00, (1.0, 1.5): plus => 0.8175182481751825, minus => 0.18248175182481752\n",
      "2017-07-07 00:00:00, (1.5, 2.0): plus => 0.822141560798548, minus => 0.17785843920145192\n",
      "2017-07-07 00:00:00, (2.0, 99.0): plus => 0.7203219315895373, minus => 0.2796780684104628\n",
      "2017-08-23 00:00:00, (-99.0, 99.0): plus => 0.7711581291759465, minus => 0.22884187082405344\n",
      "2017-08-23 00:00:00, (-99.0, -2.0): plus => 0.5263157894736842, minus => 0.47368421052631576\n",
      "2017-08-23 00:00:00, (-2.0, -1.5): plus => 0.5963302752293578, minus => 0.4036697247706422\n",
      "2017-08-23 00:00:00, (-1.5, -1.0): plus => 0.5741935483870968, minus => 0.4258064516129032\n",
      "2017-08-23 00:00:00, (-1.0, -0.5): plus => 0.6245210727969349, minus => 0.37547892720306514\n",
      "2017-08-23 00:00:00, (-0.5, 0): plus => 0.7376093294460642, minus => 0.26239067055393583\n",
      "2017-08-23 00:00:00, (0, 0.5): plus => 0.7634146341463415, minus => 0.23658536585365852\n",
      "2017-08-23 00:00:00, (0.5, 1.0): plus => 0.8503937007874016, minus => 0.14960629921259844\n",
      "2017-08-23 00:00:00, (1.0, 1.5): plus => 0.8330804248861912, minus => 0.1669195751138088\n",
      "2017-08-23 00:00:00, (1.5, 2.0): plus => 0.8055555555555556, minus => 0.19444444444444445\n",
      "2017-08-23 00:00:00, (2.0, 99.0): plus => 0.7801556420233463, minus => 0.2198443579766537\n",
      "2017-09-13 00:00:00, (-99.0, 99.0): plus => 0.7379694019471488, minus => 0.26203059805285117\n",
      "2017-09-13 00:00:00, (-99.0, -2.0): plus => 0.6153846153846154, minus => 0.38461538461538464\n",
      "2017-09-13 00:00:00, (-2.0, -1.5): plus => 0.6509433962264151, minus => 0.3490566037735849\n",
      "2017-09-13 00:00:00, (-1.5, -1.0): plus => 0.5307262569832403, minus => 0.4692737430167598\n",
      "2017-09-13 00:00:00, (-1.0, -0.5): plus => 0.6535433070866141, minus => 0.3464566929133858\n",
      "2017-09-13 00:00:00, (-0.5, 0): plus => 0.6583850931677019, minus => 0.3416149068322981\n",
      "2017-09-13 00:00:00, (0, 0.5): plus => 0.7573529411764706, minus => 0.2426470588235294\n",
      "2017-09-13 00:00:00, (0.5, 1.0): plus => 0.7969283276450512, minus => 0.2030716723549488\n",
      "2017-09-13 00:00:00, (1.0, 1.5): plus => 0.7643207855973814, minus => 0.23567921440261866\n",
      "2017-09-13 00:00:00, (1.5, 2.0): plus => 0.7773359840954275, minus => 0.22266401590457258\n",
      "2017-09-13 00:00:00, (2.0, 99.0): plus => 0.7717206132879046, minus => 0.2282793867120954\n",
      "2017-10-10 00:00:00, (-99.0, 99.0): plus => 0.620403649433232, minus => 0.37959635056676805\n",
      "2017-10-10 00:00:00, (-99.0, -2.0): plus => 0.7222222222222222, minus => 0.2777777777777778\n",
      "2017-10-10 00:00:00, (-2.0, -1.5): plus => 0.5, minus => 0.5\n",
      "2017-10-10 00:00:00, (-1.5, -1.0): plus => 0.4391891891891892, minus => 0.5608108108108109\n",
      "2017-10-10 00:00:00, (-1.0, -0.5): plus => 0.5320197044334976, minus => 0.46798029556650245\n",
      "2017-10-10 00:00:00, (-0.5, 0): plus => 0.5252918287937743, minus => 0.47470817120622566\n",
      "2017-10-10 00:00:00, (0, 0.5): plus => 0.5576923076923077, minus => 0.4423076923076923\n",
      "2017-10-10 00:00:00, (0.5, 1.0): plus => 0.6303901437371663, minus => 0.36960985626283366\n",
      "2017-10-10 00:00:00, (1.0, 1.5): plus => 0.6442307692307693, minus => 0.3557692307692308\n",
      "2017-10-10 00:00:00, (1.5, 2.0): plus => 0.6747967479674797, minus => 0.3252032520325203\n",
      "2017-10-10 00:00:00, (2.0, 99.0): plus => 0.6785276073619632, minus => 0.3214723926380368\n",
      "2017-11-11 00:00:00, (-99.0, 99.0): plus => 0.4715783664459161, minus => 0.5284216335540839\n",
      "2017-11-11 00:00:00, (-99.0, -2.0): plus => 0.6666666666666666, minus => 0.3333333333333333\n",
      "2017-11-11 00:00:00, (-2.0, -1.5): plus => 0.5333333333333333, minus => 0.4666666666666667\n",
      "2017-11-11 00:00:00, (-1.5, -1.0): plus => 0.4246575342465753, minus => 0.5753424657534246\n",
      "2017-11-11 00:00:00, (-1.0, -0.5): plus => 0.41414141414141414, minus => 0.5858585858585859\n",
      "2017-11-11 00:00:00, (-0.5, 0): plus => 0.4122448979591837, minus => 0.5877551020408164\n",
      "2017-11-11 00:00:00, (0, 0.5): plus => 0.48109965635738833, minus => 0.5189003436426117\n",
      "2017-11-11 00:00:00, (0.5, 1.0): plus => 0.47410358565737054, minus => 0.5258964143426295\n",
      "2017-11-11 00:00:00, (1.0, 1.5): plus => 0.47692307692307695, minus => 0.5230769230769231\n",
      "2017-11-11 00:00:00, (1.5, 2.0): plus => 0.4826325411334552, minus => 0.5173674588665448\n",
      "2017-11-11 00:00:00, (2.0, 99.0): plus => 0.4777777777777778, minus => 0.5222222222222223\n",
      "2017-12-17 00:00:00, (-99.0, 99.0): plus => 0.3900767543859649, minus => 0.6099232456140351\n",
      "2017-12-17 00:00:00, (-99.0, -2.0): plus => 0.2777777777777778, minus => 0.7222222222222222\n",
      "2017-12-17 00:00:00, (-2.0, -1.5): plus => 0.4044943820224719, minus => 0.5955056179775281\n",
      "2017-12-17 00:00:00, (-1.5, -1.0): plus => 0.4166666666666667, minus => 0.5833333333333334\n",
      "2017-12-17 00:00:00, (-1.0, -0.5): plus => 0.3922413793103448, minus => 0.6077586206896551\n",
      "2017-12-17 00:00:00, (-0.5, 0): plus => 0.4057377049180328, minus => 0.5942622950819673\n",
      "2017-12-17 00:00:00, (0, 0.5): plus => 0.40599455040871935, minus => 0.5940054495912807\n",
      "2017-12-17 00:00:00, (0.5, 1.0): plus => 0.3766519823788546, minus => 0.6233480176211453\n",
      "2017-12-17 00:00:00, (1.0, 1.5): plus => 0.4085820895522388, minus => 0.5914179104477612\n",
      "2017-12-17 00:00:00, (1.5, 2.0): plus => 0.36981757877280264, minus => 0.6301824212271974\n",
      "2017-12-17 00:00:00, (2.0, 99.0): plus => 0.38588754134509373, minus => 0.6141124586549063\n",
      "2018-01-12 00:00:00, (-99.0, 99.0): plus => 0.36381004366812225, minus => 0.6361899563318777\n",
      "2018-01-12 00:00:00, (-99.0, -2.0): plus => 0.47619047619047616, minus => 0.5238095238095238\n",
      "2018-01-12 00:00:00, (-2.0, -1.5): plus => 0.3111111111111111, minus => 0.6888888888888889\n",
      "2018-01-12 00:00:00, (-1.5, -1.0): plus => 0.36538461538461536, minus => 0.6346153846153846\n",
      "2018-01-12 00:00:00, (-1.0, -0.5): plus => 0.41081081081081083, minus => 0.5891891891891892\n",
      "2018-01-12 00:00:00, (-0.5, 0): plus => 0.3939393939393939, minus => 0.6060606060606061\n",
      "2018-01-12 00:00:00, (0, 0.5): plus => 0.3525423728813559, minus => 0.6474576271186441\n",
      "2018-01-12 00:00:00, (0.5, 1.0): plus => 0.3720316622691293, minus => 0.6279683377308707\n",
      "2018-01-12 00:00:00, (1.0, 1.5): plus => 0.39644970414201186, minus => 0.6035502958579881\n",
      "2018-01-12 00:00:00, (1.5, 2.0): plus => 0.3463855421686747, minus => 0.6536144578313253\n",
      "2018-01-12 00:00:00, (2.0, 99.0): plus => 0.3448844884488449, minus => 0.6551155115511551\n",
      "2018-02-24 00:00:00, (-99.0, 99.0): plus => 0.3841330425299891, minus => 0.6158669574700109\n",
      "2018-02-24 00:00:00, (-99.0, -2.0): plus => 0.3805309734513274, minus => 0.6194690265486725\n",
      "2018-02-24 00:00:00, (-2.0, -1.5): plus => 0.3836477987421384, minus => 0.6163522012578616\n",
      "2018-02-24 00:00:00, (-1.5, -1.0): plus => 0.35797665369649806, minus => 0.642023346303502\n",
      "2018-02-24 00:00:00, (-1.0, -0.5): plus => 0.38596491228070173, minus => 0.6140350877192983\n",
      "2018-02-24 00:00:00, (-0.5, 0): plus => 0.38258575197889183, minus => 0.6174142480211082\n",
      "2018-02-24 00:00:00, (0, 0.5): plus => 0.40919037199124725, minus => 0.5908096280087527\n",
      "2018-02-24 00:00:00, (0.5, 1.0): plus => 0.3871473354231975, minus => 0.6128526645768025\n",
      "2018-02-24 00:00:00, (1.0, 1.5): plus => 0.3475177304964539, minus => 0.6524822695035462\n",
      "2018-02-24 00:00:00, (1.5, 2.0): plus => 0.40664961636828645, minus => 0.5933503836317136\n",
      "2018-02-24 00:00:00, (2.0, 99.0): plus => 0.3976470588235294, minus => 0.6023529411764705\n",
      "2018-03-19 00:00:00, (-99.0, 99.0): plus => 0.3658138268916712, minus => 0.6341861731083288\n",
      "2018-03-19 00:00:00, (-99.0, -2.0): plus => 0.36486486486486486, minus => 0.6351351351351351\n",
      "2018-03-19 00:00:00, (-2.0, -1.5): plus => 0.3399014778325123, minus => 0.6600985221674877\n",
      "2018-03-19 00:00:00, (-1.5, -1.0): plus => 0.3576158940397351, minus => 0.6423841059602649\n",
      "2018-03-19 00:00:00, (-1.0, -0.5): plus => 0.4152542372881356, minus => 0.5847457627118644\n",
      "2018-03-19 00:00:00, (-0.5, 0): plus => 0.3462414578587699, minus => 0.6537585421412301\n",
      "2018-03-19 00:00:00, (0, 0.5): plus => 0.36200716845878134, minus => 0.6379928315412187\n",
      "2018-03-19 00:00:00, (0.5, 1.0): plus => 0.3621533442088091, minus => 0.6378466557911908\n",
      "2018-03-19 00:00:00, (1.0, 1.5): plus => 0.33849557522123896, minus => 0.661504424778761\n",
      "2018-03-19 00:00:00, (1.5, 2.0): plus => 0.37658227848101267, minus => 0.6234177215189873\n",
      "2018-03-19 00:00:00, (2.0, 99.0): plus => 0.4083044982698962, minus => 0.5916955017301038\n",
      "2018-04-03 00:00:00, (-99.0, 99.0): plus => 0.34536082474226804, minus => 0.654639175257732\n",
      "2018-04-03 00:00:00, (-99.0, -2.0): plus => 0.34265734265734266, minus => 0.6573426573426573\n",
      "2018-04-03 00:00:00, (-2.0, -1.5): plus => 0.3173913043478261, minus => 0.6826086956521739\n",
      "2018-04-03 00:00:00, (-1.5, -1.0): plus => 0.33532934131736525, minus => 0.6646706586826348\n",
      "2018-04-03 00:00:00, (-1.0, -0.5): plus => 0.3341404358353511, minus => 0.6658595641646489\n",
      "2018-04-03 00:00:00, (-0.5, 0): plus => 0.3319587628865979, minus => 0.668041237113402\n",
      "2018-04-03 00:00:00, (0, 0.5): plus => 0.32909379968203495, minus => 0.670906200317965\n",
      "2018-04-03 00:00:00, (0.5, 1.0): plus => 0.3020257826887661, minus => 0.6979742173112339\n",
      "2018-04-03 00:00:00, (1.0, 1.5): plus => 0.41204819277108434, minus => 0.5879518072289157\n",
      "2018-04-03 00:00:00, (1.5, 2.0): plus => 0.3698630136986301, minus => 0.6301369863013698\n",
      "2018-04-03 00:00:00, (2.0, 99.0): plus => 0.4254545454545455, minus => 0.5745454545454546\n",
      "2018-05-23 00:00:00, (-99.0, 99.0): plus => 0.27036535859269284, minus => 0.7296346414073072\n",
      "2018-05-23 00:00:00, (-99.0, -2.0): plus => 0.21875, minus => 0.78125\n",
      "2018-05-23 00:00:00, (-2.0, -1.5): plus => 0.18354430379746836, minus => 0.8164556962025317\n",
      "2018-05-23 00:00:00, (-1.5, -1.0): plus => 0.209375, minus => 0.790625\n",
      "2018-05-23 00:00:00, (-1.0, -0.5): plus => 0.24484536082474226, minus => 0.7551546391752577\n",
      "2018-05-23 00:00:00, (-0.5, 0): plus => 0.22580645161290322, minus => 0.7741935483870968\n",
      "2018-05-23 00:00:00, (0, 0.5): plus => 0.24057450628366248, minus => 0.7594254937163375\n",
      "2018-05-23 00:00:00, (0.5, 1.0): plus => 0.26677852348993286, minus => 0.7332214765100671\n",
      "2018-05-23 00:00:00, (1.0, 1.5): plus => 0.3355855855855856, minus => 0.6644144144144144\n",
      "2018-05-23 00:00:00, (1.5, 2.0): plus => 0.34069400630914826, minus => 0.6593059936908517\n",
      "2018-05-23 00:00:00, (2.0, 99.0): plus => 0.3601036269430052, minus => 0.6398963730569949\n",
      "2018-06-17 00:00:00, (-99.0, 99.0): plus => 0.24296536796536797, minus => 0.7570346320346321\n",
      "2018-06-17 00:00:00, (-99.0, -2.0): plus => 0.22105263157894736, minus => 0.7789473684210526\n",
      "2018-06-17 00:00:00, (-2.0, -1.5): plus => 0.1875, minus => 0.8125\n",
      "2018-06-17 00:00:00, (-1.5, -1.0): plus => 0.2073490813648294, minus => 0.7926509186351706\n",
      "2018-06-17 00:00:00, (-1.0, -0.5): plus => 0.21487603305785125, minus => 0.7851239669421488\n",
      "2018-06-17 00:00:00, (-0.5, 0): plus => 0.20366598778004075, minus => 0.7963340122199593\n",
      "2018-06-17 00:00:00, (0, 0.5): plus => 0.23552894211576847, minus => 0.7644710578842315\n",
      "2018-06-17 00:00:00, (0.5, 1.0): plus => 0.24152542372881355, minus => 0.7584745762711864\n",
      "2018-06-17 00:00:00, (1.0, 1.5): plus => 0.27816091954022987, minus => 0.7218390804597701\n",
      "2018-06-17 00:00:00, (1.5, 2.0): plus => 0.3333333333333333, minus => 0.6666666666666666\n",
      "2018-06-17 00:00:00, (2.0, 99.0): plus => 0.30666666666666664, minus => 0.6933333333333334\n",
      "2018-07-18 00:00:00, (-99.0, 99.0): plus => 0.2070543887991384, minus => 0.7929456112008616\n",
      "2018-07-18 00:00:00, (-99.0, -2.0): plus => 0.15196078431372548, minus => 0.8480392156862745\n",
      "2018-07-18 00:00:00, (-2.0, -1.5): plus => 0.15914489311163896, minus => 0.8408551068883611\n",
      "2018-07-18 00:00:00, (-1.5, -1.0): plus => 0.1871559633027523, minus => 0.8128440366972477\n",
      "2018-07-18 00:00:00, (-1.0, -0.5): plus => 0.20204081632653062, minus => 0.7979591836734694\n",
      "2018-07-18 00:00:00, (-0.5, 0): plus => 0.198, minus => 0.802\n",
      "2018-07-18 00:00:00, (0, 0.5): plus => 0.18181818181818182, minus => 0.8181818181818182\n",
      "2018-07-18 00:00:00, (0.5, 1.0): plus => 0.20253164556962025, minus => 0.7974683544303798\n",
      "2018-07-18 00:00:00, (1.0, 1.5): plus => 0.24749163879598662, minus => 0.7525083612040134\n",
      "2018-07-18 00:00:00, (1.5, 2.0): plus => 0.3256880733944954, minus => 0.6743119266055045\n",
      "2018-07-18 00:00:00, (2.0, 99.0): plus => 0.32673267326732675, minus => 0.6732673267326733\n",
      "2018-08-01 00:00:00, (-99.0, 99.0): plus => 0.17441547970975543, minus => 0.8255845202902445\n",
      "2018-08-01 00:00:00, (-99.0, -2.0): plus => 0.1743119266055046, minus => 0.8256880733944955\n",
      "2018-08-01 00:00:00, (-2.0, -1.5): plus => 0.1365079365079365, minus => 0.8634920634920635\n",
      "2018-08-01 00:00:00, (-1.5, -1.0): plus => 0.16165413533834586, minus => 0.8383458646616542\n",
      "2018-08-01 00:00:00, (-1.0, -0.5): plus => 0.14726027397260275, minus => 0.8527397260273972\n",
      "2018-08-01 00:00:00, (-0.5, 0): plus => 0.15581854043392504, minus => 0.8441814595660749\n",
      "2018-08-01 00:00:00, (0, 0.5): plus => 0.1749502982107356, minus => 0.8250497017892644\n",
      "2018-08-01 00:00:00, (0.5, 1.0): plus => 0.17362637362637362, minus => 0.8263736263736263\n",
      "2018-08-01 00:00:00, (1.0, 1.5): plus => 0.21806853582554517, minus => 0.7819314641744548\n",
      "2018-08-01 00:00:00, (1.5, 2.0): plus => 0.24890829694323144, minus => 0.7510917030567685\n",
      "2018-08-01 00:00:00, (2.0, 99.0): plus => 0.25301204819277107, minus => 0.7469879518072289\n"
     ]
    },
    {
     "name": "stderr",
     "output_type": "stream",
     "text": [
      "<ipython-input-15-f02c003211c5>:6: RankWarning: Polyfit may be poorly conditioned\n",
      "  check_df = check(code_list, check_datetime)\n"
     ]
    },
    {
     "name": "stdout",
     "output_type": "stream",
     "text": [
      "2018-09-24 00:00:00, (-99.0, 99.0): plus => 0.15974269632806218, minus => 0.8402573036719378\n"
     ]
    },
    {
     "name": "stderr",
     "output_type": "stream",
     "text": [
      "<ipython-input-15-f02c003211c5>:6: RankWarning: Polyfit may be poorly conditioned\n",
      "  check_df = check(code_list, check_datetime)\n"
     ]
    },
    {
     "name": "stdout",
     "output_type": "stream",
     "text": [
      "2018-09-24 00:00:00, (-99.0, -2.0): plus => 0.20512820512820512, minus => 0.7948717948717948\n",
      "2018-09-24 00:00:00, (-2.0, -1.5): plus => 0.17164179104477612, minus => 0.8283582089552238\n",
      "2018-09-24 00:00:00, (-1.5, -1.0): plus => 0.1303724928366762, minus => 0.8696275071633238\n",
      "2018-09-24 00:00:00, (-1.0, -0.5): plus => 0.14606741573033707, minus => 0.8539325842696629\n",
      "2018-09-24 00:00:00, (-0.5, 0): plus => 0.12550607287449392, minus => 0.8744939271255061\n",
      "2018-09-24 00:00:00, (0, 0.5): plus => 0.17884130982367757, minus => 0.8211586901763224\n",
      "2018-09-24 00:00:00, (0.5, 1.0): plus => 0.20270270270270271, minus => 0.7972972972972973\n",
      "2018-09-24 00:00:00, (1.0, 1.5): plus => 0.1856060606060606, minus => 0.8143939393939394\n",
      "2018-09-24 00:00:00, (1.5, 2.0): plus => 0.1509433962264151, minus => 0.8490566037735849\n",
      "2018-09-24 00:00:00, (2.0, 99.0): plus => 0.1909722222222222, minus => 0.8090277777777778\n"
     ]
    },
    {
     "name": "stderr",
     "output_type": "stream",
     "text": [
      "<ipython-input-15-f02c003211c5>:6: RankWarning: Polyfit may be poorly conditioned\n",
      "  check_df = check(code_list, check_datetime)\n"
     ]
    },
    {
     "name": "stdout",
     "output_type": "stream",
     "text": [
      "2018-09-28 00:00:00, (-99.0, 99.0): plus => 0.17206315226117205, minus => 0.8279368477388279\n"
     ]
    },
    {
     "name": "stderr",
     "output_type": "stream",
     "text": [
      "<ipython-input-15-f02c003211c5>:6: RankWarning: Polyfit may be poorly conditioned\n",
      "  check_df = check(code_list, check_datetime)\n"
     ]
    },
    {
     "name": "stdout",
     "output_type": "stream",
     "text": [
      "2018-09-28 00:00:00, (-99.0, -2.0): plus => 0.30434782608695654, minus => 0.6956521739130435\n",
      "2018-09-28 00:00:00, (-2.0, -1.5): plus => 0.16141732283464566, minus => 0.8385826771653543\n",
      "2018-09-28 00:00:00, (-1.5, -1.0): plus => 0.1468189233278956, minus => 0.8531810766721044\n",
      "2018-09-28 00:00:00, (-1.0, -0.5): plus => 0.13702623906705538, minus => 0.8629737609329446\n",
      "2018-09-28 00:00:00, (-0.5, 0): plus => 0.13991769547325103, minus => 0.8600823045267489\n",
      "2018-09-28 00:00:00, (0, 0.5): plus => 0.18882978723404256, minus => 0.8111702127659575\n",
      "2018-09-28 00:00:00, (0.5, 1.0): plus => 0.1839080459770115, minus => 0.8160919540229885\n",
      "2018-09-28 00:00:00, (1.0, 1.5): plus => 0.22118380062305296, minus => 0.778816199376947\n",
      "2018-09-28 00:00:00, (1.5, 2.0): plus => 0.23923444976076555, minus => 0.7607655502392344\n",
      "2018-09-28 00:00:00, (2.0, 99.0): plus => 0.1875, minus => 0.8125\n",
      "2018-11-20 00:00:00, (-99.0, 99.0): plus => 0.3765300691857371, minus => 0.6234699308142629\n",
      "2018-11-20 00:00:00, (-99.0, -2.0): plus => 0.3374125874125874, minus => 0.6625874125874126\n",
      "2018-11-20 00:00:00, (-2.0, -1.5): plus => 0.3638709677419355, minus => 0.6361290322580645\n",
      "2018-11-20 00:00:00, (-1.5, -1.0): plus => 0.376078914919852, minus => 0.623921085080148\n",
      "2018-11-20 00:00:00, (-1.0, -0.5): plus => 0.3666026871401152, minus => 0.6333973128598849\n",
      "2018-11-20 00:00:00, (-0.5, 0): plus => 0.38738738738738737, minus => 0.6126126126126126\n",
      "2018-11-20 00:00:00, (0, 0.5): plus => 0.3516949152542373, minus => 0.6483050847457628\n",
      "2018-11-20 00:00:00, (0.5, 1.0): plus => 0.47191011235955055, minus => 0.5280898876404494\n",
      "2018-11-20 00:00:00, (1.0, 1.5): plus => 0.4032258064516129, minus => 0.5967741935483871\n",
      "2018-11-20 00:00:00, (1.5, 2.0): plus => 0.42452830188679247, minus => 0.5754716981132075\n",
      "2018-11-20 00:00:00, (2.0, 99.0): plus => 0.5196078431372549, minus => 0.4803921568627451\n",
      "2018-11-28 00:00:00, (-99.0, 99.0): plus => 0.41138903672166044, minus => 0.5886109632783395\n",
      "2018-11-28 00:00:00, (-99.0, -2.0): plus => 0.3798219584569733, minus => 0.6201780415430267\n",
      "2018-11-28 00:00:00, (-2.0, -1.5): plus => 0.40809968847352024, minus => 0.5919003115264797\n",
      "2018-11-28 00:00:00, (-1.5, -1.0): plus => 0.42872687704026113, minus => 0.5712731229597389\n",
      "2018-11-28 00:00:00, (-1.0, -0.5): plus => 0.3908450704225352, minus => 0.6091549295774648\n",
      "2018-11-28 00:00:00, (-0.5, 0): plus => 0.39901477832512317, minus => 0.6009852216748769\n",
      "2018-11-28 00:00:00, (0, 0.5): plus => 0.3713235294117647, minus => 0.6286764705882353\n",
      "2018-11-28 00:00:00, (0.5, 1.0): plus => 0.41818181818181815, minus => 0.5818181818181818\n",
      "2018-11-28 00:00:00, (1.0, 1.5): plus => 0.41843971631205673, minus => 0.5815602836879432\n",
      "2018-11-28 00:00:00, (1.5, 2.0): plus => 0.514018691588785, minus => 0.48598130841121495\n",
      "2018-11-28 00:00:00, (2.0, 99.0): plus => 0.4863013698630137, minus => 0.5136986301369864\n"
     ]
    },
    {
     "name": "stderr",
     "output_type": "stream",
     "text": [
      "<ipython-input-15-f02c003211c5>:6: RankWarning: Polyfit may be poorly conditioned\n",
      "  check_df = check(code_list, check_datetime)\n"
     ]
    },
    {
     "name": "stdout",
     "output_type": "stream",
     "text": [
      "2019-01-05 00:00:00, (-99.0, 99.0): plus => 0.4697009790949987, minus => 0.5302990209050014\n",
      "2019-01-05 00:00:00, (-99.0, -2.0): plus => 0.48377219840783836, minus => 0.5162278015921616\n",
      "2019-01-05 00:00:00, (-2.0, -1.5): plus => 0.4588235294117647, minus => 0.5411764705882353\n",
      "2019-01-05 00:00:00, (-1.5, -1.0): plus => 0.4666666666666667, minus => 0.5333333333333333\n",
      "2019-01-05 00:00:00, (-1.0, -0.5): plus => 0.405982905982906, minus => 0.594017094017094\n"
     ]
    },
    {
     "name": "stderr",
     "output_type": "stream",
     "text": [
      "<ipython-input-15-f02c003211c5>:6: RankWarning: Polyfit may be poorly conditioned\n",
      "  check_df = check(code_list, check_datetime)\n"
     ]
    },
    {
     "name": "stdout",
     "output_type": "stream",
     "text": [
      "2019-01-05 00:00:00, (-0.5, 0): plus => 0.4712041884816754, minus => 0.5287958115183246\n",
      "2019-01-05 00:00:00, (0, 0.5): plus => 0.4852941176470588, minus => 0.5147058823529411\n",
      "2019-01-05 00:00:00, (0.5, 1.0): plus => 0.49038461538461536, minus => 0.5096153846153846\n",
      "2019-01-05 00:00:00, (1.0, 1.5): plus => 0.4915254237288136, minus => 0.5084745762711864\n",
      "2019-01-05 00:00:00, (1.5, 2.0): plus => 0.6363636363636364, minus => 0.36363636363636365\n",
      "2019-01-05 00:00:00, (2.0, 99.0): plus => 0.30158730158730157, minus => 0.6984126984126984\n"
     ]
    },
    {
     "name": "stderr",
     "output_type": "stream",
     "text": [
      "<ipython-input-15-f02c003211c5>:6: RankWarning: Polyfit may be poorly conditioned\n",
      "  check_df = check(code_list, check_datetime)\n"
     ]
    },
    {
     "name": "stdout",
     "output_type": "stream",
     "text": [
      "2019-02-23 00:00:00, (-99.0, 99.0): plus => 0.3971481383681014, minus => 0.6028518616318986\n",
      "2019-02-23 00:00:00, (-99.0, -2.0): plus => 0.38636363636363635, minus => 0.6136363636363636\n",
      "2019-02-23 00:00:00, (-2.0, -1.5): plus => 0.37109375, minus => 0.62890625\n",
      "2019-02-23 00:00:00, (-1.5, -1.0): plus => 0.39575289575289574, minus => 0.6042471042471043\n",
      "2019-02-23 00:00:00, (-1.0, -0.5): plus => 0.35731414868105515, minus => 0.6426858513189448\n"
     ]
    },
    {
     "name": "stderr",
     "output_type": "stream",
     "text": [
      "<ipython-input-15-f02c003211c5>:6: RankWarning: Polyfit may be poorly conditioned\n",
      "  check_df = check(code_list, check_datetime)\n"
     ]
    },
    {
     "name": "stdout",
     "output_type": "stream",
     "text": [
      "2019-02-23 00:00:00, (-0.5, 0): plus => 0.4009009009009009, minus => 0.5990990990990991\n",
      "2019-02-23 00:00:00, (0, 0.5): plus => 0.4336917562724014, minus => 0.5663082437275986\n",
      "2019-02-23 00:00:00, (0.5, 1.0): plus => 0.3522727272727273, minus => 0.6477272727272727\n",
      "2019-02-23 00:00:00, (1.0, 1.5): plus => 0.46853146853146854, minus => 0.5314685314685315\n",
      "2019-02-23 00:00:00, (1.5, 2.0): plus => 0.5357142857142857, minus => 0.4642857142857143\n",
      "2019-02-23 00:00:00, (2.0, 99.0): plus => 0.5630252100840336, minus => 0.4369747899159664\n"
     ]
    },
    {
     "name": "stderr",
     "output_type": "stream",
     "text": [
      "<ipython-input-15-f02c003211c5>:6: RankWarning: Polyfit may be poorly conditioned\n",
      "  check_df = check(code_list, check_datetime)\n"
     ]
    },
    {
     "name": "stdout",
     "output_type": "stream",
     "text": [
      "2019-03-02 00:00:00, (-99.0, 99.0): plus => 0.375, minus => 0.625\n",
      "2019-03-02 00:00:00, (-99.0, -2.0): plus => 0.375, minus => 0.625\n",
      "2019-03-02 00:00:00, (-2.0, -1.5): plus => 0.33853006681514475, minus => 0.6614699331848553\n",
      "2019-03-02 00:00:00, (-1.5, -1.0): plus => 0.36646586345381527, minus => 0.6335341365461847\n",
      "2019-03-02 00:00:00, (-1.0, -0.5): plus => 0.34812286689419797, minus => 0.6518771331058021\n"
     ]
    },
    {
     "name": "stderr",
     "output_type": "stream",
     "text": [
      "<ipython-input-15-f02c003211c5>:6: RankWarning: Polyfit may be poorly conditioned\n",
      "  check_df = check(code_list, check_datetime)\n"
     ]
    },
    {
     "name": "stdout",
     "output_type": "stream",
     "text": [
      "2019-03-02 00:00:00, (-0.5, 0): plus => 0.3678646934460888, minus => 0.6321353065539113\n",
      "2019-03-02 00:00:00, (0, 0.5): plus => 0.3610223642172524, minus => 0.6389776357827476\n",
      "2019-03-02 00:00:00, (0.5, 1.0): plus => 0.40487804878048783, minus => 0.5951219512195122\n",
      "2019-03-02 00:00:00, (1.0, 1.5): plus => 0.45806451612903226, minus => 0.5419354838709678\n",
      "2019-03-02 00:00:00, (1.5, 2.0): plus => 0.5405405405405406, minus => 0.4594594594594595\n",
      "2019-03-02 00:00:00, (2.0, 99.0): plus => 0.5190839694656488, minus => 0.48091603053435117\n"
     ]
    },
    {
     "name": "stderr",
     "output_type": "stream",
     "text": [
      "<ipython-input-15-f02c003211c5>:6: RankWarning: Polyfit may be poorly conditioned\n",
      "  check_df = check(code_list, check_datetime)\n"
     ]
    },
    {
     "name": "stdout",
     "output_type": "stream",
     "text": [
      "2019-04-09 00:00:00, (-99.0, 99.0): plus => 0.3440041983731304, minus => 0.6559958016268695\n",
      "2019-04-09 00:00:00, (-99.0, -2.0): plus => 0.19318181818181818, minus => 0.8068181818181818\n",
      "2019-04-09 00:00:00, (-2.0, -1.5): plus => 0.2987012987012987, minus => 0.7012987012987013\n",
      "2019-04-09 00:00:00, (-1.5, -1.0): plus => 0.3487858719646799, minus => 0.6512141280353201\n",
      "2019-04-09 00:00:00, (-1.0, -0.5): plus => 0.334384858044164, minus => 0.6656151419558359\n",
      "2019-04-09 00:00:00, (-0.5, 0): plus => 0.301056338028169, minus => 0.698943661971831\n"
     ]
    },
    {
     "name": "stderr",
     "output_type": "stream",
     "text": [
      "<ipython-input-15-f02c003211c5>:6: RankWarning: Polyfit may be poorly conditioned\n",
      "  check_df = check(code_list, check_datetime)\n"
     ]
    },
    {
     "name": "stdout",
     "output_type": "stream",
     "text": [
      "2019-04-09 00:00:00, (0, 0.5): plus => 0.3649425287356322, minus => 0.6350574712643678\n",
      "2019-04-09 00:00:00, (0.5, 1.0): plus => 0.3688888888888889, minus => 0.6311111111111111\n",
      "2019-04-09 00:00:00, (1.0, 1.5): plus => 0.43915343915343913, minus => 0.5608465608465608\n",
      "2019-04-09 00:00:00, (1.5, 2.0): plus => 0.46774193548387094, minus => 0.532258064516129\n",
      "2019-04-09 00:00:00, (2.0, 99.0): plus => 0.4423076923076923, minus => 0.5576923076923077\n",
      "2019-05-24 00:00:00, (-99.0, 99.0): plus => 0.5250327653997379, minus => 0.47496723460026213\n",
      "2019-05-24 00:00:00, (-99.0, -2.0): plus => 0.4444444444444444, minus => 0.5555555555555556\n",
      "2019-05-24 00:00:00, (-2.0, -1.5): plus => 0.5017921146953405, minus => 0.4982078853046595\n",
      "2019-05-24 00:00:00, (-1.5, -1.0): plus => 0.5366108786610879, minus => 0.46338912133891214\n",
      "2019-05-24 00:00:00, (-1.0, -0.5): plus => 0.5380281690140845, minus => 0.4619718309859155\n",
      "2019-05-24 00:00:00, (-0.5, 0): plus => 0.5026737967914439, minus => 0.49732620320855614\n",
      "2019-05-24 00:00:00, (0, 0.5): plus => 0.5375939849624061, minus => 0.462406015037594\n",
      "2019-05-24 00:00:00, (0.5, 1.0): plus => 0.5276381909547738, minus => 0.4723618090452261\n",
      "2019-05-24 00:00:00, (1.0, 1.5): plus => 0.5190839694656488, minus => 0.48091603053435117\n",
      "2019-05-24 00:00:00, (1.5, 2.0): plus => 0.6031746031746031, minus => 0.3968253968253968\n",
      "2019-05-24 00:00:00, (2.0, 99.0): plus => 0.6274509803921569, minus => 0.37254901960784315\n",
      "2019-06-11 00:00:00, (-99.0, 99.0): plus => 0.6257202723939235, minus => 0.3742797276060765\n",
      "2019-06-11 00:00:00, (-99.0, -2.0): plus => 0.5503355704697986, minus => 0.44966442953020136\n",
      "2019-06-11 00:00:00, (-2.0, -1.5): plus => 0.5886214442013129, minus => 0.4113785557986871\n",
      "2019-06-11 00:00:00, (-1.5, -1.0): plus => 0.6491228070175439, minus => 0.3508771929824561\n",
      "2019-06-11 00:00:00, (-1.0, -0.5): plus => 0.6529126213592233, minus => 0.3470873786407767\n",
      "2019-06-11 00:00:00, (-0.5, 0): plus => 0.6273291925465838, minus => 0.37267080745341613\n",
      "2019-06-11 00:00:00, (0, 0.5): plus => 0.5899053627760252, minus => 0.41009463722397477\n",
      "2019-06-11 00:00:00, (0.5, 1.0): plus => 0.6200873362445415, minus => 0.3799126637554585\n",
      "2019-06-11 00:00:00, (1.0, 1.5): plus => 0.5892857142857143, minus => 0.4107142857142857\n",
      "2019-06-11 00:00:00, (1.5, 2.0): plus => 0.674074074074074, minus => 0.32592592592592595\n",
      "2019-06-11 00:00:00, (2.0, 99.0): plus => 0.5972222222222222, minus => 0.4027777777777778\n",
      "2019-07-10 00:00:00, (-99.0, 99.0): plus => 0.7203235063918602, minus => 0.27967649360813984\n",
      "2019-07-10 00:00:00, (-99.0, -2.0): plus => 0.6756756756756757, minus => 0.32432432432432434\n",
      "2019-07-10 00:00:00, (-2.0, -1.5): plus => 0.6588235294117647, minus => 0.3411764705882353\n",
      "2019-07-10 00:00:00, (-1.5, -1.0): plus => 0.7871148459383753, minus => 0.21288515406162464\n",
      "2019-07-10 00:00:00, (-1.0, -0.5): plus => 0.7429467084639498, minus => 0.25705329153605017\n",
      "2019-07-10 00:00:00, (-0.5, 0): plus => 0.7030497592295345, minus => 0.2969502407704655\n",
      "2019-07-10 00:00:00, (0, 0.5): plus => 0.7007874015748031, minus => 0.2992125984251969\n",
      "2019-07-10 00:00:00, (0.5, 1.0): plus => 0.6928104575163399, minus => 0.30718954248366015\n",
      "2019-07-10 00:00:00, (1.0, 1.5): plus => 0.6695652173913044, minus => 0.33043478260869563\n",
      "2019-07-10 00:00:00, (1.5, 2.0): plus => 0.6474358974358975, minus => 0.3525641025641026\n",
      "2019-07-10 00:00:00, (2.0, 99.0): plus => 0.7068965517241379, minus => 0.29310344827586204\n",
      "2019-08-01 00:00:00, (-99.0, 99.0): plus => 0.7833333333333333, minus => 0.21666666666666667\n",
      "2019-08-01 00:00:00, (-99.0, -2.0): plus => 0.640625, minus => 0.359375\n",
      "2019-08-01 00:00:00, (-2.0, -1.5): plus => 0.8125, minus => 0.1875\n",
      "2019-08-01 00:00:00, (-1.5, -1.0): plus => 0.8230337078651685, minus => 0.17696629213483145\n",
      "2019-08-01 00:00:00, (-1.0, -0.5): plus => 0.8004459308807135, minus => 0.1995540691192865\n",
      "2019-08-01 00:00:00, (-0.5, 0): plus => 0.7983193277310925, minus => 0.20168067226890757\n",
      "2019-08-01 00:00:00, (0, 0.5): plus => 0.7281323877068558, minus => 0.2718676122931442\n",
      "2019-08-01 00:00:00, (0.5, 1.0): plus => 0.737012987012987, minus => 0.262987012987013\n",
      "2019-08-01 00:00:00, (1.0, 1.5): plus => 0.7347826086956522, minus => 0.26521739130434785\n",
      "2019-08-01 00:00:00, (1.5, 2.0): plus => 0.7758620689655172, minus => 0.22413793103448276\n",
      "2019-08-01 00:00:00, (2.0, 99.0): plus => 0.7790055248618785, minus => 0.22099447513812154\n",
      "2019-08-31 00:00:00, (-99.0, 99.0): plus => 0.799583550234253, minus => 0.20041644976574702\n",
      "2019-08-31 00:00:00, (-99.0, -2.0): plus => 0.7569060773480663, minus => 0.2430939226519337\n",
      "2019-08-31 00:00:00, (-2.0, -1.5): plus => 0.8391472868217055, minus => 0.16085271317829458\n",
      "2019-08-31 00:00:00, (-1.5, -1.0): plus => 0.8369678089304258, minus => 0.16303219106957426\n",
      "2019-08-31 00:00:00, (-1.0, -0.5): plus => 0.8302687411598303, minus => 0.16973125884016974\n",
      "2019-08-31 00:00:00, (-0.5, 0): plus => 0.7752808988764045, minus => 0.2247191011235955\n",
      "2019-08-31 00:00:00, (0, 0.5): plus => 0.73125, minus => 0.26875\n",
      "2019-08-31 00:00:00, (0.5, 1.0): plus => 0.7338403041825095, minus => 0.2661596958174905\n",
      "2019-08-31 00:00:00, (1.0, 1.5): plus => 0.718562874251497, minus => 0.281437125748503\n",
      "2019-08-31 00:00:00, (1.5, 2.0): plus => 0.7222222222222222, minus => 0.2777777777777778\n",
      "2019-08-31 00:00:00, (2.0, 99.0): plus => 0.8181818181818182, minus => 0.18181818181818182\n",
      "2019-10-19 00:00:00, (-99.0, 99.0): plus => 0.19714656290531776, minus => 0.8028534370946823\n",
      "2019-10-19 00:00:00, (-99.0, -2.0): plus => 0.3902439024390244, minus => 0.6097560975609756\n",
      "2019-10-19 00:00:00, (-2.0, -1.5): plus => 0.21296296296296297, minus => 0.7870370370370371\n",
      "2019-10-19 00:00:00, (-1.5, -1.0): plus => 0.15732758620689655, minus => 0.8426724137931034\n",
      "2019-10-19 00:00:00, (-1.0, -0.5): plus => 0.16895604395604397, minus => 0.8310439560439561\n",
      "2019-10-19 00:00:00, (-0.5, 0): plus => 0.1872, minus => 0.8128\n",
      "2019-10-19 00:00:00, (0, 0.5): plus => 0.20625, minus => 0.79375\n",
      "2019-10-19 00:00:00, (0.5, 1.0): plus => 0.2242152466367713, minus => 0.7757847533632287\n",
      "2019-10-19 00:00:00, (1.0, 1.5): plus => 0.19607843137254902, minus => 0.803921568627451\n",
      "2019-10-19 00:00:00, (1.5, 2.0): plus => 0.25274725274725274, minus => 0.7472527472527473\n",
      "2019-10-19 00:00:00, (2.0, 99.0): plus => 0.21021021021021022, minus => 0.7897897897897898\n",
      "2019-10-24 00:00:00, (-99.0, 99.0): plus => 0.1475239823697174, minus => 0.8524760176302826\n",
      "2019-10-24 00:00:00, (-99.0, -2.0): plus => 0.4722222222222222, minus => 0.5277777777777778\n",
      "2019-10-24 00:00:00, (-2.0, -1.5): plus => 0.12643678160919541, minus => 0.8735632183908046\n",
      "2019-10-24 00:00:00, (-1.5, -1.0): plus => 0.13243243243243244, minus => 0.8675675675675676\n",
      "2019-10-24 00:00:00, (-1.0, -0.5): plus => 0.12965722801788376, minus => 0.8703427719821163\n",
      "2019-10-24 00:00:00, (-0.5, 0): plus => 0.13758389261744966, minus => 0.8624161073825504\n",
      "2019-10-24 00:00:00, (0, 0.5): plus => 0.13142857142857142, minus => 0.8685714285714285\n",
      "2019-10-24 00:00:00, (0.5, 1.0): plus => 0.16993464052287582, minus => 0.8300653594771242\n",
      "2019-10-24 00:00:00, (1.0, 1.5): plus => 0.16180371352785147, minus => 0.8381962864721485\n",
      "2019-10-24 00:00:00, (1.5, 2.0): plus => 0.16374269005847952, minus => 0.8362573099415205\n",
      "2019-10-24 00:00:00, (2.0, 99.0): plus => 0.14974619289340102, minus => 0.850253807106599\n",
      "2019-11-28 00:00:00, (-99.0, 99.0): plus => 0.07971014492753623, minus => 0.9202898550724637\n",
      "2019-11-28 00:00:00, (-99.0, -2.0): plus => 0.6923076923076923, minus => 0.3076923076923077\n",
      "2019-11-28 00:00:00, (-2.0, -1.5): plus => 0.1, minus => 0.9\n",
      "2019-11-28 00:00:00, (-1.5, -1.0): plus => 0.07327586206896551, minus => 0.9267241379310345\n",
      "2019-11-28 00:00:00, (-1.0, -0.5): plus => 0.06873614190687362, minus => 0.9312638580931264\n",
      "2019-11-28 00:00:00, (-0.5, 0): plus => 0.06525911708253358, minus => 0.9347408829174664\n",
      "2019-11-28 00:00:00, (0, 0.5): plus => 0.0707070707070707, minus => 0.9292929292929293\n",
      "2019-11-28 00:00:00, (0.5, 1.0): plus => 0.06967213114754098, minus => 0.930327868852459\n",
      "2019-11-28 00:00:00, (1.0, 1.5): plus => 0.0670391061452514, minus => 0.9329608938547486\n",
      "2019-11-28 00:00:00, (1.5, 2.0): plus => 0.07505518763796909, minus => 0.9249448123620309\n",
      "2019-11-28 00:00:00, (2.0, 99.0): plus => 0.10474631751227496, minus => 0.8952536824877251\n",
      "2019-12-28 00:00:00, (-99.0, 99.0): plus => 0.1224909933093155, minus => 0.8775090066906845\n",
      "2019-12-28 00:00:00, (-99.0, -2.0): plus => 0.5185185185185185, minus => 0.48148148148148145\n",
      "2019-12-28 00:00:00, (-2.0, -1.5): plus => 0.22535211267605634, minus => 0.7746478873239436\n",
      "2019-12-28 00:00:00, (-1.5, -1.0): plus => 0.14351851851851852, minus => 0.8564814814814815\n",
      "2019-12-28 00:00:00, (-1.0, -0.5): plus => 0.09269662921348315, minus => 0.9073033707865169\n",
      "2019-12-28 00:00:00, (-0.5, 0): plus => 0.11409395973154363, minus => 0.8859060402684564\n",
      "2019-12-28 00:00:00, (0, 0.5): plus => 0.11910112359550562, minus => 0.8808988764044944\n",
      "2019-12-28 00:00:00, (0.5, 1.0): plus => 0.09839816933638444, minus => 0.9016018306636155\n",
      "2019-12-28 00:00:00, (1.0, 1.5): plus => 0.125, minus => 0.875\n",
      "2019-12-28 00:00:00, (1.5, 2.0): plus => 0.11733800350262696, minus => 0.882661996497373\n",
      "2019-12-28 00:00:00, (2.0, 99.0): plus => 0.12967914438502673, minus => 0.8703208556149733\n",
      "2020-01-22 00:00:00, (-99.0, 99.0): plus => 0.2018513756749807, minus => 0.7981486243250193\n",
      "2020-01-22 00:00:00, (-99.0, -2.0): plus => 0.19230769230769232, minus => 0.8076923076923077\n",
      "2020-01-22 00:00:00, (-2.0, -1.5): plus => 0.2625, minus => 0.7375\n",
      "2020-01-22 00:00:00, (-1.5, -1.0): plus => 0.21674876847290642, minus => 0.7832512315270936\n",
      "2020-01-22 00:00:00, (-1.0, -0.5): plus => 0.1897018970189702, minus => 0.8102981029810298\n",
      "2020-01-22 00:00:00, (-0.5, 0): plus => 0.20098039215686275, minus => 0.7990196078431373\n",
      "2020-01-22 00:00:00, (0, 0.5): plus => 0.1762114537444934, minus => 0.8237885462555066\n",
      "2020-01-22 00:00:00, (0.5, 1.0): plus => 0.20041322314049587, minus => 0.7995867768595041\n",
      "2020-01-22 00:00:00, (1.0, 1.5): plus => 0.2236842105263158, minus => 0.7763157894736842\n",
      "2020-01-22 00:00:00, (1.5, 2.0): plus => 0.18214936247723132, minus => 0.8178506375227687\n",
      "2020-01-22 00:00:00, (2.0, 99.0): plus => 0.21301020408163265, minus => 0.7869897959183674\n",
      "2020-03-06 00:00:00, (-99.0, 99.0): plus => 0.6230433666923274, minus => 0.3769566333076726\n",
      "2020-03-06 00:00:00, (-99.0, -2.0): plus => 0.6114864864864865, minus => 0.3885135135135135\n",
      "2020-03-06 00:00:00, (-2.0, -1.5): plus => 0.6066176470588235, minus => 0.39338235294117646\n",
      "2020-03-06 00:00:00, (-1.5, -1.0): plus => 0.6136363636363636, minus => 0.38636363636363635\n",
      "2020-03-06 00:00:00, (-1.0, -0.5): plus => 0.6442307692307693, minus => 0.3557692307692308\n",
      "2020-03-06 00:00:00, (-0.5, 0): plus => 0.6483180428134556, minus => 0.3516819571865443\n",
      "2020-03-06 00:00:00, (0, 0.5): plus => 0.627177700348432, minus => 0.37282229965156793\n",
      "2020-03-06 00:00:00, (0.5, 1.0): plus => 0.6203208556149733, minus => 0.37967914438502676\n",
      "2020-03-06 00:00:00, (1.0, 1.5): plus => 0.6701030927835051, minus => 0.32989690721649484\n",
      "2020-03-06 00:00:00, (1.5, 2.0): plus => 0.7105263157894737, minus => 0.2894736842105263\n",
      "2020-03-06 00:00:00, (2.0, 99.0): plus => 0.7567567567567568, minus => 0.24324324324324326\n",
      "2020-03-31 00:00:00, (-99.0, 99.0): plus => 0.7866802755805052, minus => 0.21331972441949476\n",
      "2020-03-31 00:00:00, (-99.0, -2.0): plus => 0.7909496494582536, minus => 0.20905035054174634\n",
      "2020-03-31 00:00:00, (-2.0, -1.5): plus => 0.8120184899845917, minus => 0.18798151001540833\n",
      "2020-03-31 00:00:00, (-1.5, -1.0): plus => 0.782051282051282, minus => 0.21794871794871795\n",
      "2020-03-31 00:00:00, (-1.0, -0.5): plus => 0.7923076923076923, minus => 0.2076923076923077\n",
      "2020-03-31 00:00:00, (-0.5, 0): plus => 0.7894736842105263, minus => 0.21052631578947367\n",
      "2020-03-31 00:00:00, (0, 0.5): plus => 0.7707317073170732, minus => 0.22926829268292684\n",
      "2020-03-31 00:00:00, (0.5, 1.0): plus => 0.6992481203007519, minus => 0.3007518796992481\n",
      "2020-03-31 00:00:00, (1.0, 1.5): plus => 0.7802197802197802, minus => 0.21978021978021978\n",
      "2020-03-31 00:00:00, (1.5, 2.0): plus => 0.7454545454545455, minus => 0.2545454545454545\n",
      "2020-03-31 00:00:00, (2.0, 99.0): plus => 0.6727272727272727, minus => 0.32727272727272727\n",
      "2020-04-26 00:00:00, (-99.0, 99.0): plus => 0.7580316165221825, minus => 0.24196838347781743\n",
      "2020-04-26 00:00:00, (-99.0, -2.0): plus => 0.7253521126760564, minus => 0.2746478873239437\n",
      "2020-04-26 00:00:00, (-2.0, -1.5): plus => 0.7842278203723987, minus => 0.2157721796276013\n",
      "2020-04-26 00:00:00, (-1.5, -1.0): plus => 0.7896825396825397, minus => 0.21031746031746032\n",
      "2020-04-26 00:00:00, (-1.0, -0.5): plus => 0.8211920529801324, minus => 0.17880794701986755\n",
      "2020-04-26 00:00:00, (-0.5, 0): plus => 0.7225433526011561, minus => 0.2774566473988439\n",
      "2020-04-26 00:00:00, (0, 0.5): plus => 0.6454183266932271, minus => 0.3545816733067729\n",
      "2020-04-26 00:00:00, (0.5, 1.0): plus => 0.69, minus => 0.31\n",
      "2020-04-26 00:00:00, (1.0, 1.5): plus => 0.7295081967213115, minus => 0.27049180327868855\n",
      "2020-04-26 00:00:00, (1.5, 2.0): plus => 0.75, minus => 0.25\n",
      "2020-04-26 00:00:00, (2.0, 99.0): plus => 0.8105263157894737, minus => 0.18947368421052632\n",
      "2020-06-10 00:00:00, (-99.0, 99.0): plus => 0.62554167728779, minus => 0.37445832271221\n",
      "2020-06-10 00:00:00, (-99.0, -2.0): plus => 0.125, minus => 0.875\n",
      "2020-06-10 00:00:00, (-2.0, -1.5): plus => 0.25, minus => 0.75\n",
      "2020-06-10 00:00:00, (-1.5, -1.0): plus => 0.49612403100775193, minus => 0.5038759689922481\n",
      "2020-06-10 00:00:00, (-1.0, -0.5): plus => 0.5966480446927375, minus => 0.4033519553072626\n",
      "2020-06-10 00:00:00, (-0.5, 0): plus => 0.6299615877080665, minus => 0.3700384122919334\n",
      "2020-06-10 00:00:00, (0, 0.5): plus => 0.668918918918919, minus => 0.3310810810810811\n",
      "2020-06-10 00:00:00, (0.5, 1.0): plus => 0.6989473684210527, minus => 0.30105263157894735\n",
      "2020-06-10 00:00:00, (1.0, 1.5): plus => 0.6984732824427481, minus => 0.3015267175572519\n",
      "2020-06-10 00:00:00, (1.5, 2.0): plus => 0.7048192771084337, minus => 0.29518072289156627\n",
      "2020-06-10 00:00:00, (2.0, 99.0): plus => 0.6360655737704918, minus => 0.3639344262295082\n",
      "2020-06-28 00:00:00, (-99.0, 99.0): plus => 0.6323566878980892, minus => 0.3676433121019108\n",
      "2020-06-28 00:00:00, (-99.0, -2.0): plus => 0.2857142857142857, minus => 0.7142857142857143\n",
      "2020-06-28 00:00:00, (-2.0, -1.5): plus => 0.4144144144144144, minus => 0.5855855855855856\n",
      "2020-06-28 00:00:00, (-1.5, -1.0): plus => 0.5993930197268589, minus => 0.4006069802731411\n",
      "2020-06-28 00:00:00, (-1.0, -0.5): plus => 0.6276958002270148, minus => 0.37230419977298523\n",
      "2020-06-28 00:00:00, (-0.5, 0): plus => 0.677710843373494, minus => 0.32228915662650603\n",
      "2020-06-28 00:00:00, (0, 0.5): plus => 0.6771799628942486, minus => 0.3228200371057514\n",
      "2020-06-28 00:00:00, (0.5, 1.0): plus => 0.6174698795180723, minus => 0.3825301204819277\n",
      "2020-06-28 00:00:00, (1.0, 1.5): plus => 0.6311475409836066, minus => 0.36885245901639346\n",
      "2020-06-28 00:00:00, (1.5, 2.0): plus => 0.6918918918918919, minus => 0.3081081081081081\n",
      "2020-06-28 00:00:00, (2.0, 99.0): plus => 0.6148648648648649, minus => 0.38513513513513514\n",
      "2020-08-15 00:00:00, (-99.0, 99.0): plus => 0.6344249809596344, minus => 0.3655750190403656\n",
      "2020-08-15 00:00:00, (-99.0, -2.0): plus => 0.3157894736842105, minus => 0.6842105263157895\n",
      "2020-08-15 00:00:00, (-2.0, -1.5): plus => 0.4857142857142857, minus => 0.5142857142857142\n",
      "2020-08-15 00:00:00, (-1.5, -1.0): plus => 0.6300148588410104, minus => 0.3699851411589896\n",
      "2020-08-15 00:00:00, (-1.0, -0.5): plus => 0.671875, minus => 0.328125\n",
      "2020-08-15 00:00:00, (-0.5, 0): plus => 0.6946308724832215, minus => 0.3053691275167785\n",
      "2020-08-15 00:00:00, (0, 0.5): plus => 0.6475095785440613, minus => 0.3524904214559387\n",
      "2020-08-15 00:00:00, (0.5, 1.0): plus => 0.6212121212121212, minus => 0.3787878787878788\n",
      "2020-08-15 00:00:00, (1.0, 1.5): plus => 0.6125461254612546, minus => 0.3874538745387454\n",
      "2020-08-15 00:00:00, (1.5, 2.0): plus => 0.5942028985507246, minus => 0.4057971014492754\n",
      "2020-08-15 00:00:00, (2.0, 99.0): plus => 0.5078740157480315, minus => 0.4921259842519685\n",
      "2020-09-10 00:00:00, (-99.0, 99.0): plus => 0.6128296146044625, minus => 0.38717038539553755\n",
      "2020-09-10 00:00:00, (-99.0, -2.0): plus => 0.4166666666666667, minus => 0.5833333333333334\n",
      "2020-09-10 00:00:00, (-2.0, -1.5): plus => 0.5573770491803278, minus => 0.4426229508196721\n",
      "2020-09-10 00:00:00, (-1.5, -1.0): plus => 0.5722070844686649, minus => 0.42779291553133514\n",
      "2020-09-10 00:00:00, (-1.0, -0.5): plus => 0.6898395721925134, minus => 0.31016042780748665\n",
      "2020-09-10 00:00:00, (-0.5, 0): plus => 0.6272965879265092, minus => 0.37270341207349084\n",
      "2020-09-10 00:00:00, (0, 0.5): plus => 0.6298245614035087, minus => 0.3701754385964912\n",
      "2020-09-10 00:00:00, (0.5, 1.0): plus => 0.6017316017316018, minus => 0.39826839826839827\n",
      "2020-09-10 00:00:00, (1.0, 1.5): plus => 0.5307262569832403, minus => 0.4692737430167598\n",
      "2020-09-10 00:00:00, (1.5, 2.0): plus => 0.5, minus => 0.5\n",
      "2020-09-10 00:00:00, (2.0, 99.0): plus => 0.5446009389671361, minus => 0.45539906103286387\n",
      "2020-10-12 00:00:00, (-99.0, 99.0): plus => 0.6654885130017673, minus => 0.33451148699823274\n",
      "2020-10-12 00:00:00, (-99.0, -2.0): plus => 0.42857142857142855, minus => 0.5714285714285714\n",
      "2020-10-12 00:00:00, (-2.0, -1.5): plus => 0.6578947368421053, minus => 0.34210526315789475\n",
      "2020-10-12 00:00:00, (-1.5, -1.0): plus => 0.7376425855513308, minus => 0.2623574144486692\n",
      "2020-10-12 00:00:00, (-1.0, -0.5): plus => 0.752, minus => 0.248\n",
      "2020-10-12 00:00:00, (-0.5, 0): plus => 0.7237354085603113, minus => 0.27626459143968873\n",
      "2020-10-12 00:00:00, (0, 0.5): plus => 0.6730103806228374, minus => 0.32698961937716264\n",
      "2020-10-12 00:00:00, (0.5, 1.0): plus => 0.6257088846880907, minus => 0.3742911153119093\n",
      "2020-10-12 00:00:00, (1.0, 1.5): plus => 0.5876288659793815, minus => 0.41237113402061853\n",
      "2020-10-12 00:00:00, (1.5, 2.0): plus => 0.5992647058823529, minus => 0.4007352941176471\n",
      "2020-10-12 00:00:00, (2.0, 99.0): plus => 0.4958904109589041, minus => 0.5041095890410959\n",
      "2020-10-28 00:00:00, (-99.0, 99.0): plus => 0.7141416687673304, minus => 0.2858583312326695\n",
      "2020-10-28 00:00:00, (-99.0, -2.0): plus => 0.6190476190476191, minus => 0.38095238095238093\n",
      "2020-10-28 00:00:00, (-2.0, -1.5): plus => 0.68, minus => 0.32\n",
      "2020-10-28 00:00:00, (-1.5, -1.0): plus => 0.7625, minus => 0.2375\n",
      "2020-10-28 00:00:00, (-1.0, -0.5): plus => 0.810126582278481, minus => 0.189873417721519\n",
      "2020-10-28 00:00:00, (-0.5, 0): plus => 0.7824267782426778, minus => 0.2175732217573222\n",
      "2020-10-28 00:00:00, (0, 0.5): plus => 0.7007874015748031, minus => 0.2992125984251969\n",
      "2020-10-28 00:00:00, (0.5, 1.0): plus => 0.6463157894736842, minus => 0.35368421052631577\n",
      "2020-10-28 00:00:00, (1.0, 1.5): plus => 0.5589041095890411, minus => 0.4410958904109589\n",
      "2020-10-28 00:00:00, (1.5, 2.0): plus => 0.5918367346938775, minus => 0.40816326530612246\n",
      "2020-10-28 00:00:00, (2.0, 99.0): plus => 0.593939393939394, minus => 0.40606060606060607\n",
      "2020-12-09 00:00:00, (-99.0, 99.0): plus => 0.6878569654829898, minus => 0.3121430345170102\n",
      "2020-12-09 00:00:00, (-99.0, -2.0): plus => 0.6666666666666666, minus => 0.3333333333333333\n",
      "2020-12-09 00:00:00, (-2.0, -1.5): plus => 0.5268817204301075, minus => 0.4731182795698925\n",
      "2020-12-09 00:00:00, (-1.5, -1.0): plus => 0.6654411764705882, minus => 0.33455882352941174\n",
      "2020-12-09 00:00:00, (-1.0, -0.5): plus => 0.8059701492537313, minus => 0.19402985074626866\n",
      "2020-12-09 00:00:00, (-0.5, 0): plus => 0.7461858529819695, minus => 0.2538141470180305\n",
      "2020-12-09 00:00:00, (0, 0.5): plus => 0.6717791411042945, minus => 0.3282208588957055\n",
      "2020-12-09 00:00:00, (0.5, 1.0): plus => 0.6314935064935064, minus => 0.3685064935064935\n",
      "2020-12-09 00:00:00, (1.0, 1.5): plus => 0.6532066508313539, minus => 0.34679334916864607\n",
      "2020-12-09 00:00:00, (1.5, 2.0): plus => 0.6334405144694534, minus => 0.3665594855305466\n",
      "2020-12-09 00:00:00, (2.0, 99.0): plus => 0.6403785488958991, minus => 0.35962145110410093\n",
      "2020-12-30 00:00:00, (-99.0, 99.0): plus => 0.6419052319842053, minus => 0.35809476801579465\n",
      "2020-12-30 00:00:00, (-99.0, -2.0): plus => 0.5454545454545454, minus => 0.45454545454545453\n",
      "2020-12-30 00:00:00, (-2.0, -1.5): plus => 0.6, minus => 0.4\n",
      "2020-12-30 00:00:00, (-1.5, -1.0): plus => 0.6418918918918919, minus => 0.3581081081081081\n",
      "2020-12-30 00:00:00, (-1.0, -0.5): plus => 0.71875, minus => 0.28125\n",
      "2020-12-30 00:00:00, (-0.5, 0): plus => 0.7107309486780715, minus => 0.2892690513219285\n",
      "2020-12-30 00:00:00, (0, 0.5): plus => 0.6372688477951636, minus => 0.3627311522048364\n",
      "2020-12-30 00:00:00, (0.5, 1.0): plus => 0.6129568106312292, minus => 0.38704318936877075\n",
      "2020-12-30 00:00:00, (1.0, 1.5): plus => 0.6026490066225165, minus => 0.3973509933774834\n",
      "2020-12-30 00:00:00, (1.5, 2.0): plus => 0.6277173913043478, minus => 0.37228260869565216\n",
      "2020-12-30 00:00:00, (2.0, 99.0): plus => 0.5102040816326531, minus => 0.4897959183673469\n",
      "2021-02-05 00:00:00, (-99.0, 99.0): plus => 0.5561035758323057, minus => 0.4438964241676942\n",
      "2021-02-05 00:00:00, (-99.0, -2.0): plus => 0.14285714285714285, minus => 0.8571428571428571\n",
      "2021-02-05 00:00:00, (-2.0, -1.5): plus => 0.36363636363636365, minus => 0.6363636363636364\n",
      "2021-02-05 00:00:00, (-1.5, -1.0): plus => 0.4609375, minus => 0.5390625\n",
      "2021-02-05 00:00:00, (-1.0, -0.5): plus => 0.5, minus => 0.5\n",
      "2021-02-05 00:00:00, (-0.5, 0): plus => 0.5476635514018692, minus => 0.4523364485981308\n",
      "2021-02-05 00:00:00, (0, 0.5): plus => 0.5615384615384615, minus => 0.43846153846153846\n",
      "2021-02-05 00:00:00, (0.5, 1.0): plus => 0.5561719833564494, minus => 0.44382801664355065\n",
      "2021-02-05 00:00:00, (1.0, 1.5): plus => 0.547945205479452, minus => 0.4520547945205479\n",
      "2021-02-05 00:00:00, (1.5, 2.0): plus => 0.6188679245283019, minus => 0.38113207547169814\n",
      "2021-02-05 00:00:00, (2.0, 99.0): plus => 0.589873417721519, minus => 0.41012658227848103\n",
      "2021-03-11 00:00:00, (-99.0, 99.0): plus => 0.43444034440344403, minus => 0.565559655596556\n",
      "2021-03-11 00:00:00, (-99.0, -2.0): plus => 0.36363636363636365, minus => 0.6363636363636364\n",
      "2021-03-11 00:00:00, (-2.0, -1.5): plus => 0.12903225806451613, minus => 0.8709677419354839\n",
      "2021-03-11 00:00:00, (-1.5, -1.0): plus => 0.2848101265822785, minus => 0.7151898734177216\n",
      "2021-03-11 00:00:00, (-1.0, -0.5): plus => 0.3188405797101449, minus => 0.6811594202898551\n",
      "2021-03-11 00:00:00, (-0.5, 0): plus => 0.35962877030162416, minus => 0.6403712296983759\n",
      "2021-03-11 00:00:00, (0, 0.5): plus => 0.41207815275310833, minus => 0.5879218472468917\n",
      "2021-03-11 00:00:00, (0.5, 1.0): plus => 0.43950995405819293, minus => 0.5604900459418071\n",
      "2021-03-11 00:00:00, (1.0, 1.5): plus => 0.43788819875776397, minus => 0.562111801242236\n",
      "2021-03-11 00:00:00, (1.5, 2.0): plus => 0.5165794066317626, minus => 0.48342059336823734\n",
      "2021-03-11 00:00:00, (2.0, 99.0): plus => 0.5144827586206897, minus => 0.48551724137931035\n",
      "2021-04-04 00:00:00, (-99.0, 99.0): plus => 0.3620221948212084, minus => 0.6379778051787917\n",
      "2021-04-04 00:00:00, (-99.0, -2.0): plus => 0.5, minus => 0.5\n",
      "2021-04-04 00:00:00, (-2.0, -1.5): plus => 0.21428571428571427, minus => 0.7857142857142857\n",
      "2021-04-04 00:00:00, (-1.5, -1.0): plus => 0.22142857142857142, minus => 0.7785714285714286\n",
      "2021-04-04 00:00:00, (-1.0, -0.5): plus => 0.22258064516129034, minus => 0.7774193548387097\n",
      "2021-04-04 00:00:00, (-0.5, 0): plus => 0.2793427230046948, minus => 0.7206572769953051\n",
      "2021-04-04 00:00:00, (0, 0.5): plus => 0.3072289156626506, minus => 0.6927710843373494\n",
      "2021-04-04 00:00:00, (0.5, 1.0): plus => 0.32682926829268294, minus => 0.6731707317073171\n",
      "2021-04-04 00:00:00, (1.0, 1.5): plus => 0.3611111111111111, minus => 0.6388888888888888\n",
      "2021-04-04 00:00:00, (1.5, 2.0): plus => 0.4103967168262654, minus => 0.5896032831737346\n",
      "2021-04-04 00:00:00, (2.0, 99.0): plus => 0.5699115044247788, minus => 0.4300884955752212\n",
      "2021-05-15 00:00:00, (-99.0, 99.0): plus => 0.4527043714497407, minus => 0.5472956285502594\n",
      "2021-05-15 00:00:00, (-99.0, -2.0): plus => 0.025210084033613446, minus => 0.9747899159663865\n",
      "2021-05-15 00:00:00, (-2.0, -1.5): plus => 0.2268041237113402, minus => 0.7731958762886598\n",
      "2021-05-15 00:00:00, (-1.5, -1.0): plus => 0.2622107969151671, minus => 0.7377892030848329\n",
      "2021-05-15 00:00:00, (-1.0, -0.5): plus => 0.34606741573033706, minus => 0.6539325842696629\n",
      "2021-05-15 00:00:00, (-0.5, 0): plus => 0.4013452914798206, minus => 0.5986547085201793\n",
      "2021-05-15 00:00:00, (0, 0.5): plus => 0.40512820512820513, minus => 0.5948717948717949\n",
      "2021-05-15 00:00:00, (0.5, 1.0): plus => 0.4332344213649852, minus => 0.5667655786350149\n",
      "2021-05-15 00:00:00, (1.0, 1.5): plus => 0.5711775043936731, minus => 0.4288224956063269\n",
      "2021-05-15 00:00:00, (1.5, 2.0): plus => 0.7352941176470589, minus => 0.2647058823529412\n",
      "2021-05-15 00:00:00, (2.0, 99.0): plus => 0.8740157480314961, minus => 0.12598425196850394\n",
      "2021-06-02 00:00:00, (-99.0, 99.0): plus => 0.5444883835887296, minus => 0.4555116164112704\n",
      "2021-06-02 00:00:00, (-99.0, -2.0): plus => 0.009009009009009009, minus => 0.990990990990991\n",
      "2021-06-02 00:00:00, (-2.0, -1.5): plus => 0.19796954314720813, minus => 0.8020304568527918\n",
      "2021-06-02 00:00:00, (-1.5, -1.0): plus => 0.32320441988950277, minus => 0.6767955801104972\n",
      "2021-06-02 00:00:00, (-1.0, -0.5): plus => 0.3844282238442822, minus => 0.6155717761557178\n",
      "2021-06-02 00:00:00, (-0.5, 0): plus => 0.4043956043956044, minus => 0.5956043956043956\n",
      "2021-06-02 00:00:00, (0, 0.5): plus => 0.44779116465863456, minus => 0.5522088353413654\n",
      "2021-06-02 00:00:00, (0.5, 1.0): plus => 0.5291338582677165, minus => 0.47086614173228347\n",
      "2021-06-02 00:00:00, (1.0, 1.5): plus => 0.7094474153297683, minus => 0.2905525846702317\n",
      "2021-06-02 00:00:00, (1.5, 2.0): plus => 0.8836633663366337, minus => 0.11633663366336634\n",
      "2021-06-02 00:00:00, (2.0, 99.0): plus => 0.9466019417475728, minus => 0.05339805825242718\n"
     ]
    },
    {
     "name": "stderr",
     "output_type": "stream",
     "text": [
      "<ipython-input-15-f02c003211c5>:6: RankWarning: Polyfit may be poorly conditioned\n",
      "  check_df = check(code_list, check_datetime)\n",
      "<ipython-input-15-f02c003211c5>:6: RankWarning: Polyfit may be poorly conditioned\n",
      "  check_df = check(code_list, check_datetime)\n",
      "<ipython-input-15-f02c003211c5>:6: RankWarning: Polyfit may be poorly conditioned\n",
      "  check_df = check(code_list, check_datetime)\n",
      "<ipython-input-15-f02c003211c5>:6: RankWarning: Polyfit may be poorly conditioned\n",
      "  check_df = check(code_list, check_datetime)\n"
     ]
    },
    {
     "name": "stdout",
     "output_type": "stream",
     "text": [
      "2021-06-26 00:00:00, (-99.0, 99.0): plus => 0.6245049504950495, minus => 0.3754950495049505\n",
      "2021-06-26 00:00:00, (-99.0, -2.0): plus => 0.05405405405405406, minus => 0.9459459459459459\n",
      "2021-06-26 00:00:00, (-2.0, -1.5): plus => 0.174496644295302, minus => 0.825503355704698\n",
      "2021-06-26 00:00:00, (-1.5, -1.0): plus => 0.36797752808988765, minus => 0.6320224719101124\n"
     ]
    },
    {
     "name": "stderr",
     "output_type": "stream",
     "text": [
      "<ipython-input-15-f02c003211c5>:6: RankWarning: Polyfit may be poorly conditioned\n",
      "  check_df = check(code_list, check_datetime)\n"
     ]
    },
    {
     "name": "stdout",
     "output_type": "stream",
     "text": [
      "2021-06-26 00:00:00, (-1.0, -0.5): plus => 0.5295454545454545, minus => 0.47045454545454546\n",
      "2021-06-26 00:00:00, (-0.5, 0): plus => 0.54627539503386, minus => 0.45372460496614\n"
     ]
    },
    {
     "name": "stderr",
     "output_type": "stream",
     "text": [
      "<ipython-input-15-f02c003211c5>:6: RankWarning: Polyfit may be poorly conditioned\n",
      "  check_df = check(code_list, check_datetime)\n"
     ]
    },
    {
     "name": "stdout",
     "output_type": "stream",
     "text": [
      "2021-06-26 00:00:00, (0, 0.5): plus => 0.5656934306569343, minus => 0.4343065693430657\n"
     ]
    },
    {
     "name": "stderr",
     "output_type": "stream",
     "text": [
      "<ipython-input-15-f02c003211c5>:6: RankWarning: Polyfit may be poorly conditioned\n",
      "  check_df = check(code_list, check_datetime)\n"
     ]
    },
    {
     "name": "stdout",
     "output_type": "stream",
     "text": [
      "2021-06-26 00:00:00, (0.5, 1.0): plus => 0.602291325695581, minus => 0.397708674304419\n",
      "2021-06-26 00:00:00, (1.0, 1.5): plus => 0.7368421052631579, minus => 0.2631578947368421\n"
     ]
    },
    {
     "name": "stderr",
     "output_type": "stream",
     "text": [
      "<ipython-input-15-f02c003211c5>:6: RankWarning: Polyfit may be poorly conditioned\n",
      "  check_df = check(code_list, check_datetime)\n"
     ]
    },
    {
     "name": "stdout",
     "output_type": "stream",
     "text": [
      "2021-06-26 00:00:00, (1.5, 2.0): plus => 0.9134396355353075, minus => 0.08656036446469248\n",
      "2021-06-26 00:00:00, (2.0, 99.0): plus => 0.967741935483871, minus => 0.03225806451612903\n"
     ]
    }
   ],
   "source": [
    "gap_rank = [(-99.0, 99.0), (-99.0, -2.0), (-2.0, -1.5), (-1.5, -1.0), (-1.0, -0.5), (-0.5, 0), (0, 0.5), (0.5, 1.0), (1.0, 1.5), (1.5, 2.0), (2.0, 99.0)]\n",
    "for check_datetime in check_datetime_list:\n",
    "    gap_df = calc_mean_and_gap(check_datetime, data)\n",
    "    for rank in gap_rank:\n",
    "        code_list = gap_df[(rank[0] < gap_df['gap_rate']) & (gap_df['gap_rate'] <= rank[1])].code\n",
    "        check_df = check(code_list, check_datetime)\n",
    "        plus = len(check_df[check_df['grad'] > 0])\n",
    "        minus = len(check_df[check_df['grad'] < 0])\n",
    "        print('{}, ({}, {}): plus => {}, minus => {}'.format(check_datetime, rank[0], rank[1], plus / len(check_df), minus / len(check_df)))"
   ]
  },
  {
   "cell_type": "markdown",
   "id": "italian-latin",
   "metadata": {},
   "source": [
    "# 結論\n",
    "全体的には平均より値が上がっている銘柄がその後も値上がりしやすい傾向  \n",
    "ただし、日によってかなりムラがあり、  \n",
    "どの銘柄を買うかより、むしろどの日に買うかの方が重要  \n",
    "  \n",
    "特にみられる傾向としては、全体的に値下がりしている日には、  \n",
    "平均より上の銘柄がより、上がりやすい  \n",
    "（ただそれより、どの日に買うかという方が重要）  \n",
    "  \n",
    "また値上がりのチェック期間を半年としているが、  \n",
    "これが妥当かいくつかの期間で試すべきと思われる"
   ]
  }
 ],
 "metadata": {
  "kernelspec": {
   "display_name": "Python 3",
   "language": "python",
   "name": "python3"
  },
  "language_info": {
   "codemirror_mode": {
    "name": "ipython",
    "version": 3
   },
   "file_extension": ".py",
   "mimetype": "text/x-python",
   "name": "python",
   "nbconvert_exporter": "python",
   "pygments_lexer": "ipython3",
   "version": "3.8.6"
  }
 },
 "nbformat": 4,
 "nbformat_minor": 5
}
